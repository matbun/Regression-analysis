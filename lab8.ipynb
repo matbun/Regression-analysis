{
 "cells": [
  {
   "cell_type": "markdown",
   "metadata": {},
   "source": [
    "# Synthetic data generation\n",
    "Many libraries and out-of-the-shelf algorithm implementations are widely available, there is still a lack of sufficient data to test them out. Synthetic data generationis a powerful tool we recommend you learn to master as it becomes extremely useful to test and optimizeyour models."
   ]
  },
  {
   "cell_type": "code",
   "execution_count": 376,
   "metadata": {},
   "outputs": [],
   "source": [
    "from sklearn.model_selection import train_test_split\n",
    "import numpy as np\n",
    "\n",
    "def dataset(f, n_samples=100):\n",
    "    tr = 20\n",
    "    X = np.linspace(-tr, tr, n_samples)\n",
    "    y = f(X)\n",
    "    X_train, X_test, y_train, y_test = train_test_split(X, y,test_size=.3,random_state=42,shuffle=True)\n",
    "    # Così li posso plottare (?)\n",
    "    y_test = y_test[X_test.argsort()]\n",
    "    X_test.sort()\n",
    "    \n",
    "    return X_train.reshape(-1,1), X_test.reshape(-1,1), y_train, y_test"
   ]
  },
  {
   "cell_type": "code",
   "execution_count": 25,
   "metadata": {},
   "outputs": [],
   "source": [
    "from sklearn.metrics import r2_score, mean_absolute_error, mean_squared_error\n",
    "def my_regression_report(y_true, y_pred, x_train):\n",
    "    mae = mean_absolute_error(y_true, y_pred)\n",
    "    mse = mean_squared_error(y_true, y_pred)\n",
    "    r2 = r2_score(y_true, y_pred)\n",
    "    adj_r2 = 1 - (1 - r2)*(x_train.shape[0]-1)/(x_train.shape[0]-x_train.shape[1]-1)\n",
    "    return str(f'R2: {r2:.2f}\\nR2 adjusted: {adj_r2:.2f}\\nMAE: {mae:.2f}\\nMSE: {mse:.2f}')"
   ]
  },
  {
   "cell_type": "code",
   "execution_count": 108,
   "metadata": {},
   "outputs": [],
   "source": [
    "def inject_noise(y):\n",
    "    \"\"\"Add a random noise drawn from a normal distribution.\"\"\"\n",
    "    return y + np.random.normal(0, 50, size=y.size)"
   ]
  },
  {
   "cell_type": "markdown",
   "metadata": {},
   "source": [
    "## f1"
   ]
  },
  {
   "cell_type": "code",
   "execution_count": 110,
   "metadata": {},
   "outputs": [],
   "source": [
    "f1 = lambda x: x*np.sin(x)+2*x"
   ]
  },
  {
   "cell_type": "code",
   "execution_count": 377,
   "metadata": {},
   "outputs": [
    {
     "data": {
      "text/plain": [
       "[<matplotlib.lines.Line2D at 0x1bdadb79388>]"
      ]
     },
     "execution_count": 377,
     "metadata": {},
     "output_type": "execute_result"
    },
    {
     "data": {
      "image/png": "[encoded data removed]",
      "text/plain": [
       "<Figure size 1008x288 with 1 Axes>"
      ]
     },
     "metadata": {
      "needs_background": "light"
     },
     "output_type": "display_data"
    }
   ],
   "source": [
    "import matplotlib.pyplot as plt\n",
    "\n",
    "x_train, x_test, y_train, y_test = dataset(f1,1000)\n",
    "\n",
    "fig, ax = plt.subplots(figsize=(14,4))\n",
    "ax.plot(x_test[:,0], y_test)"
   ]
  },
  {
   "cell_type": "code",
   "execution_count": 378,
   "metadata": {},
   "outputs": [],
   "source": [
    "from sklearn.preprocessing import StandardScaler\n",
    "\n",
    "x_tr = np.hstack((x_train,np.sin(x_train)))\n",
    "x_te = np.hstack((x_test,np.sin(x_test)))\n",
    "\n",
    "# Data noramlization\n",
    "z_scaler = StandardScaler()\n",
    "x_train = z_scaler.fit_transform(x_train)\n",
    "x_test = z_scaler.transform(x_test)\n",
    "\n",
    "# Data noramlization\n",
    "z_scaler = StandardScaler()\n",
    "x_tr = z_scaler.fit_transform(x_tr)\n",
    "x_te = z_scaler.transform(x_te)"
   ]
  },
  {
   "cell_type": "markdown",
   "metadata": {},
   "source": [
    "##### Linear regression"
   ]
  },
  {
   "cell_type": "code",
   "execution_count": 379,
   "metadata": {},
   "outputs": [
    {
     "name": "stdout",
     "output_type": "stream",
     "text": [
      "Linear regression:\n",
      "R2: 0.90\n",
      "R2 adjusted: 0.90\n",
      "MAE: 6.39\n",
      "MSE: 66.90\n"
     ]
    }
   ],
   "source": [
    "from sklearn.linear_model import LinearRegression\n",
    "\n",
    "### Linear regression\n",
    "lreg = LinearRegression(fit_intercept=True)\n",
    "lreg.fit(x_train, y_train)\n",
    "y_p = lreg.predict(x_test)\n",
    "\n",
    "print('Linear regression:')\n",
    "print(my_regression_report(y_test,y_p,x_train))"
   ]
  },
  {
   "cell_type": "markdown",
   "metadata": {},
   "source": [
    "##### Polynomial regression"
   ]
  },
  {
   "cell_type": "code",
   "execution_count": 380,
   "metadata": {},
   "outputs": [
    {
     "name": "stdout",
     "output_type": "stream",
     "text": [
      "R2: 0.90\n",
      "R2 adjusted: 0.90\n",
      "MAE: 6.35\n",
      "MSE: 66.47\n"
     ]
    }
   ],
   "source": [
    "from sklearn.preprocessing import PolynomialFeatures\n",
    "from sklearn.pipeline import make_pipeline\n",
    "\n",
    "reg_pipeline = make_pipeline(PolynomialFeatures(4), LinearRegression())\n",
    "\n",
    "# Polinomial regression\n",
    "reg_pipeline.fit(x_train, y_train)\n",
    "y_p = reg_pipeline.predict(x_test)\n",
    "\n",
    "print(my_regression_report(y_test,y_p,x_train))"
   ]
  },
  {
   "cell_type": "markdown",
   "metadata": {},
   "source": [
    "##### Polynomial regression - Ridge"
   ]
  },
  {
   "cell_type": "code",
   "execution_count": 381,
   "metadata": {},
   "outputs": [
    {
     "name": "stdout",
     "output_type": "stream",
     "text": [
      "R2: 0.90\n",
      "R2 adjusted: 0.90\n",
      "MAE: 6.35\n",
      "MSE: 66.48\n"
     ]
    }
   ],
   "source": [
    "from sklearn.linear_model import Ridge\n",
    "\n",
    "reg_pipeline = make_pipeline(PolynomialFeatures(4), Ridge(alpha=0.5))\n",
    "\n",
    "# Polinomial regression\n",
    "reg_pipeline.fit(x_train, y_train)\n",
    "y_p = reg_pipeline.predict(x_test)\n",
    "\n",
    "print(my_regression_report(y_test,y_p,x_train))"
   ]
  },
  {
   "cell_type": "markdown",
   "metadata": {},
   "source": [
    "##### Polynomial regression - Lasso"
   ]
  },
  {
   "cell_type": "code",
   "execution_count": 382,
   "metadata": {},
   "outputs": [
    {
     "name": "stdout",
     "output_type": "stream",
     "text": [
      "R2: 0.89\n",
      "R2 adjusted: 0.89\n",
      "MAE: 6.42\n",
      "MSE: 68.01\n"
     ]
    }
   ],
   "source": [
    "from sklearn.linear_model import Lasso\n",
    "\n",
    "reg_pipeline = make_pipeline(PolynomialFeatures(4), Lasso(alpha=0.5))\n",
    "\n",
    "# Polinomial regression\n",
    "reg_pipeline.fit(x_train, y_train)\n",
    "y_p = reg_pipeline.predict(x_test)\n",
    "\n",
    "print(my_regression_report(y_test,y_p,x_train))"
   ]
  },
  {
   "cell_type": "markdown",
   "metadata": {},
   "source": [
    "##### Polynomial regression + sin(.)\n",
    "Osservando che c'è un comportamento oscillatorio nella funzione, initroduco un termine sin(.)  \n",
    "Questo mi garantisce performances migliori di Lasso e Ridge"
   ]
  },
  {
   "cell_type": "code",
   "execution_count": 383,
   "metadata": {},
   "outputs": [
    {
     "name": "stdout",
     "output_type": "stream",
     "text": [
      "R2: 1.00\n",
      "R2 adjusted: 1.00\n",
      "MAE: 0.00\n",
      "MSE: 0.00\n"
     ]
    }
   ],
   "source": [
    "# Usano x_tr e x_te !!!\n",
    "reg_pipeline = make_pipeline(PolynomialFeatures(4), LinearRegression())\n",
    "\n",
    "# Polinomial regression\n",
    "reg_pipeline.fit(x_tr, y_train)\n",
    "y_p = reg_pipeline.predict(x_te)\n",
    "\n",
    "print(my_regression_report(y_test,y_p,x_tr))"
   ]
  },
  {
   "cell_type": "markdown",
   "metadata": {},
   "source": [
    "### Other regressors\n",
    "Hanno bisogno che i dati vengano normalizzati!!"
   ]
  },
  {
   "cell_type": "code",
   "execution_count": 384,
   "metadata": {},
   "outputs": [],
   "source": [
    "x_train = x_tr\n",
    "x_test = x_te"
   ]
  },
  {
   "cell_type": "code",
   "execution_count": 385,
   "metadata": {},
   "outputs": [
    {
     "name": "stdout",
     "output_type": "stream",
     "text": [
      "Multi-layer Perceptron regressor:\n",
      "R2: 1.00\n",
      "R2 adjusted: 1.00\n",
      "MAE: 0.00\n",
      "MSE: 0.00\n",
      "\n",
      "Epsilon-Support Vector Regression:\n",
      "R2: 0.98\n",
      "R2 adjusted: 0.98\n",
      "MAE: 1.65\n",
      "MSE: 12.97\n",
      "\n",
      "RandomForest Regression:\n",
      "R2: 1.00\n",
      "R2 adjusted: 1.00\n",
      "MAE: 0.33\n",
      "MSE: 0.25\n",
      "\n"
     ]
    }
   ],
   "source": [
    "from sklearn.neural_network import MLPRegressor\n",
    "from sklearn.svm import SVR\n",
    "from sklearn.ensemble import RandomForestRegressor\n",
    "\n",
    "\n",
    "# MLPR (neural net)\n",
    "reg = make_pipeline(MLPRegressor(random_state=17, max_iter=100000))\n",
    "reg_pipeline.fit(x_train, y_train)\n",
    "y_p = reg_pipeline.predict(x_test)\n",
    "\n",
    "print('Multi-layer Perceptron regressor:')\n",
    "print(my_regression_report(y_test,y_p,x_train))\n",
    "print()\n",
    "\n",
    "# SVR\n",
    "reg_pipeline = make_pipeline(SVR(gamma='auto'))\n",
    "reg_pipeline.fit(x_train, y_train)\n",
    "y_p = reg_pipeline.predict(x_test)\n",
    "\n",
    "print('Epsilon-Support Vector Regression:')\n",
    "print(my_regression_report(y_test,y_p,x_train))\n",
    "print()\n",
    "\n",
    "# Random forest\n",
    "reg_pipeline = make_pipeline(RandomForestRegressor(n_estimators=1000, random_state=17))\n",
    "reg_pipeline.fit(x_train, y_train)\n",
    "y_p = reg_pipeline.predict(x_test)\n",
    "\n",
    "print('RandomForest Regression:')\n",
    "print(my_regression_report(y_test,y_p,x_train))\n",
    "print()"
   ]
  },
  {
   "cell_type": "markdown",
   "metadata": {},
   "source": [
    "## f1 + noise"
   ]
  },
  {
   "cell_type": "code",
   "execution_count": 386,
   "metadata": {},
   "outputs": [
    {
     "data": {
      "text/plain": [
       "[<matplotlib.lines.Line2D at 0x1bdada6a188>]"
      ]
     },
     "execution_count": 386,
     "metadata": {},
     "output_type": "execute_result"
    },
    {
     "data": {
      "image/png": "[encoded data removed]",
      "text/plain": [
       "<Figure size 1008x288 with 1 Axes>"
      ]
     },
     "metadata": {
      "needs_background": "light"
     },
     "output_type": "display_data"
    }
   ],
   "source": [
    "import matplotlib.pyplot as plt\n",
    "\n",
    "x_train, x_test, y_train, y_test = dataset(f1,1000)\n",
    "\n",
    "y_train = inject_noise(y_train)\n",
    "y_test = inject_noise(y_test)\n",
    "\n",
    "fig, ax = plt.subplots(figsize=(14,4))\n",
    "ax.plot(x_test[:,0], y_test)"
   ]
  },
  {
   "cell_type": "code",
   "execution_count": 387,
   "metadata": {},
   "outputs": [],
   "source": [
    "from sklearn.preprocessing import StandardScaler\n",
    "\n",
    "x_tr = np.hstack((x_train,np.sin(x_train)))\n",
    "x_te = np.hstack((x_test,np.sin(x_test)))\n",
    "\n",
    "# Data noramlization\n",
    "z_scaler = StandardScaler()\n",
    "x_train = z_scaler.fit_transform(x_train)\n",
    "x_test = z_scaler.transform(x_test)\n",
    "\n",
    "# Data noramlization\n",
    "z_scaler = StandardScaler()\n",
    "x_tr = z_scaler.fit_transform(x_tr)\n",
    "x_te = z_scaler.transform(x_te)"
   ]
  },
  {
   "cell_type": "code",
   "execution_count": 388,
   "metadata": {},
   "outputs": [
    {
     "name": "stdout",
     "output_type": "stream",
     "text": [
      "Linear regression:\n",
      "R2: 0.11\n",
      "R2 adjusted: 0.11\n",
      "MAE: 40.51\n",
      "MSE: 2537.89\n",
      "\n",
      "Polynomial regression:\n",
      "R2: 0.11\n",
      "R2 adjusted: 0.11\n",
      "MAE: 40.57\n",
      "MSE: 2537.63\n",
      "\n",
      "Ridge regression:\n",
      "R2: 0.11\n",
      "R2 adjusted: 0.11\n",
      "MAE: 40.57\n",
      "MSE: 2537.61\n",
      "\n",
      "Lasso regression:\n",
      "R2: 0.11\n",
      "R2 adjusted: 0.11\n",
      "MAE: 40.49\n",
      "MSE: 2533.19\n",
      "\n",
      "Poly + trig regression:\n",
      "R2: 0.12\n",
      "R2 adjusted: 0.12\n",
      "MAE: 40.17\n",
      "MSE: 2522.22\n",
      "\n",
      "Multi-layer Perceptron regressor:\n",
      "R2: 0.13\n",
      "R2 adjusted: 0.13\n",
      "MAE: 39.80\n",
      "MSE: 2485.39\n",
      "\n",
      "Epsilon-Support Vector Regression:\n",
      "R2: 0.14\n",
      "R2 adjusted: 0.14\n",
      "MAE: 39.85\n",
      "MSE: 2462.43\n",
      "\n",
      "RandomForest Regression:\n",
      "R2: -0.10\n",
      "R2 adjusted: -0.10\n",
      "MAE: 45.16\n",
      "MSE: 3136.97\n",
      "\n"
     ]
    }
   ],
   "source": [
    "# Linear regression\n",
    "lreg = LinearRegression(fit_intercept=True)\n",
    "lreg.fit(x_train, y_train)\n",
    "y_p = lreg.predict(x_test)\n",
    "\n",
    "print('Linear regression:')\n",
    "print(my_regression_report(y_test,y_p,x_train))\n",
    "print()\n",
    "\n",
    "\n",
    "# Polinomial regression\n",
    "reg_pipeline = make_pipeline(PolynomialFeatures(4), LinearRegression())\n",
    "reg_pipeline.fit(x_train, y_train)\n",
    "y_p = reg_pipeline.predict(x_test)\n",
    "\n",
    "print('Polynomial regression:')\n",
    "print(my_regression_report(y_test,y_p,x_train))\n",
    "print()\n",
    "\n",
    "\n",
    "# Ridge regression\n",
    "reg_pipeline = make_pipeline(PolynomialFeatures(4), Ridge(alpha=0.5))\n",
    "reg_pipeline.fit(x_train, y_train)\n",
    "y_p = reg_pipeline.predict(x_test)\n",
    "\n",
    "print('Ridge regression:')\n",
    "print(my_regression_report(y_test,y_p,x_train))\n",
    "print()\n",
    "\n",
    "\n",
    "# Lasso regression\n",
    "reg_pipeline = make_pipeline(PolynomialFeatures(4), Lasso(alpha=0.5))\n",
    "reg_pipeline.fit(x_train, y_train)\n",
    "y_p = reg_pipeline.predict(x_test)\n",
    "\n",
    "print('Lasso regression:')\n",
    "print(my_regression_report(y_test,y_p,x_train))\n",
    "print()\n",
    "\n",
    "\n",
    "# Polynomial + trigonometric\n",
    "reg_pipeline = make_pipeline(PolynomialFeatures(4), LinearRegression())\n",
    "\n",
    "reg_pipeline.fit(x_tr, y_train)\n",
    "y_p = reg_pipeline.predict(x_te)\n",
    "\n",
    "print('Poly + trig regression:')\n",
    "print(my_regression_report(y_test,y_p,x_tr))\n",
    "print()\n",
    "\n",
    "x_train = x_tr\n",
    "x_test= x_te\n",
    "\n",
    "# MLPR (neural net)\n",
    "reg_pipeline = make_pipeline(MLPRegressor(random_state=17, max_iter=100000))\n",
    "reg_pipeline.fit(x_train, y_train)\n",
    "y_p = reg_pipeline.predict(x_test)\n",
    "\n",
    "print('Multi-layer Perceptron regressor:')\n",
    "print(my_regression_report(y_test,y_p,x_train))\n",
    "print()\n",
    "\n",
    "# SVR\n",
    "reg_pipeline = make_pipeline(SVR(gamma='auto',max_iter=100000))\n",
    "reg_pipeline.fit(x_train, y_train)\n",
    "y_p = reg_pipeline.predict(x_test)\n",
    "\n",
    "print('Epsilon-Support Vector Regression:')\n",
    "print(my_regression_report(y_test,y_p,x_train))\n",
    "print()\n",
    "\n",
    "# Random forest\n",
    "reg_pipeline = make_pipeline(RandomForestRegressor(n_estimators=1000))\n",
    "reg_pipeline.fit(x_train, y_train)\n",
    "y_p = reg_pipeline.predict(x_test)\n",
    "\n",
    "print('RandomForest Regression:')\n",
    "print(my_regression_report(y_test,y_p,x_train))\n",
    "print()"
   ]
  },
  {
   "cell_type": "markdown",
   "metadata": {},
   "source": [
    "Il migliore è la linear adesso"
   ]
  },
  {
   "cell_type": "markdown",
   "metadata": {},
   "source": [
    "## f2"
   ]
  },
  {
   "cell_type": "code",
   "execution_count": 389,
   "metadata": {},
   "outputs": [],
   "source": [
    "f2 = lambda x: 10*np.sin(x)+x**2"
   ]
  },
  {
   "cell_type": "code",
   "execution_count": 420,
   "metadata": {},
   "outputs": [
    {
     "data": {
      "text/plain": [
       "[<matplotlib.lines.Line2D at 0x1bdaddc8288>]"
      ]
     },
     "execution_count": 420,
     "metadata": {},
     "output_type": "execute_result"
    },
    {
     "data": {
      "image/png": "[encoded data removed]",
      "text/plain": [
       "<Figure size 1008x288 with 1 Axes>"
      ]
     },
     "metadata": {
      "needs_background": "light"
     },
     "output_type": "display_data"
    }
   ],
   "source": [
    "import matplotlib.pyplot as plt\n",
    "\n",
    "x_train, x_test, y_train, y_test = dataset(f2,1000)\n",
    "\n",
    "fig, ax = plt.subplots(figsize=(14,4))\n",
    "ax.plot(x_test[:,0], y_test)"
   ]
  },
  {
   "cell_type": "code",
   "execution_count": 391,
   "metadata": {},
   "outputs": [],
   "source": [
    "from sklearn.preprocessing import StandardScaler\n",
    "\n",
    "x_tr = np.hstack((x_train,np.sin(x_train)))\n",
    "x_te = np.hstack((x_test,np.sin(x_test)))\n",
    "\n",
    "# Data noramlization\n",
    "z_scaler = StandardScaler()\n",
    "x_train = z_scaler.fit_transform(x_train)\n",
    "x_test = z_scaler.transform(x_test)\n",
    "\n",
    "# Data noramlization\n",
    "z_scaler = StandardScaler()\n",
    "x_tr = z_scaler.fit_transform(x_tr)\n",
    "x_te = z_scaler.transform(x_te)"
   ]
  },
  {
   "cell_type": "code",
   "execution_count": 392,
   "metadata": {},
   "outputs": [
    {
     "name": "stdout",
     "output_type": "stream",
     "text": [
      "Linear regression:\n",
      "R2: -0.00\n",
      "R2 adjusted: -0.00\n",
      "MAE: 106.19\n",
      "MSE: 15225.35\n",
      "\n",
      "Polynomial regression:\n",
      "R2: 1.00\n",
      "R2 adjusted: 1.00\n",
      "MAE: 6.32\n",
      "MSE: 49.18\n",
      "\n",
      "Ridge regression:\n",
      "R2: 1.00\n",
      "R2 adjusted: 1.00\n",
      "MAE: 6.33\n",
      "MSE: 49.41\n",
      "\n",
      "Lasso regression:\n",
      "R2: 1.00\n",
      "R2 adjusted: 1.00\n",
      "MAE: 6.41\n",
      "MSE: 50.92\n",
      "\n",
      "Poly + trig regression:\n",
      "R2: 1.00\n",
      "R2 adjusted: 1.00\n",
      "MAE: 0.00\n",
      "MSE: 0.00\n",
      "\n",
      "Multi-layer Perceptron regressor:\n",
      "R2: 1.00\n",
      "R2 adjusted: 1.00\n",
      "MAE: 4.89\n",
      "MSE: 35.92\n",
      "\n",
      "Epsilon-Support Vector Regression:\n",
      "R2: 0.77\n",
      "R2 adjusted: 0.77\n",
      "MAE: 35.93\n",
      "MSE: 3505.21\n",
      "\n",
      "RandomForest Regression:\n",
      "R2: 1.00\n",
      "R2 adjusted: 1.00\n",
      "MAE: 0.52\n",
      "MSE: 0.53\n",
      "\n"
     ]
    }
   ],
   "source": [
    "# Linear regression\n",
    "lreg = LinearRegression(fit_intercept=True)\n",
    "lreg.fit(x_train, y_train)\n",
    "y_p = lreg.predict(x_test)\n",
    "\n",
    "print('Linear regression:')\n",
    "print(my_regression_report(y_test,y_p,x_train))\n",
    "print()\n",
    "\n",
    "\n",
    "# Polinomial regression\n",
    "reg_pipeline = make_pipeline(PolynomialFeatures(4), LinearRegression())\n",
    "reg_pipeline.fit(x_train, y_train)\n",
    "y_p = reg_pipeline.predict(x_test)\n",
    "\n",
    "print('Polynomial regression:')\n",
    "print(my_regression_report(y_test,y_p,x_train))\n",
    "print()\n",
    "\n",
    "\n",
    "# Ridge regression\n",
    "reg_pipeline = make_pipeline(PolynomialFeatures(4), Ridge(alpha=0.5))\n",
    "reg_pipeline.fit(x_train, y_train)\n",
    "y_p = reg_pipeline.predict(x_test)\n",
    "\n",
    "print('Ridge regression:')\n",
    "print(my_regression_report(y_test,y_p,x_train))\n",
    "print()\n",
    "\n",
    "\n",
    "# Lasso regression\n",
    "reg_pipeline = make_pipeline(PolynomialFeatures(4), Lasso(alpha=0.5))\n",
    "reg_pipeline.fit(x_train, y_train)\n",
    "y_p = reg_pipeline.predict(x_test)\n",
    "\n",
    "print('Lasso regression:')\n",
    "print(my_regression_report(y_test,y_p,x_train))\n",
    "print()\n",
    "\n",
    "\n",
    "# Polynomial + trigonometric\n",
    "reg_pipeline = make_pipeline(PolynomialFeatures(4), LinearRegression())\n",
    "\n",
    "reg_pipeline.fit(x_tr, y_train)\n",
    "y_p = reg_pipeline.predict(x_te)\n",
    "\n",
    "print('Poly + trig regression:')\n",
    "print(my_regression_report(y_test,y_p,x_tr))\n",
    "print()\n",
    "\n",
    "# MLPR (neural net)\n",
    "reg_pipeline = make_pipeline(MLPRegressor(random_state=17, max_iter=100000))\n",
    "reg_pipeline.fit(x_train, y_train)\n",
    "y_p = reg_pipeline.predict(x_test)\n",
    "\n",
    "print('Multi-layer Perceptron regressor:')\n",
    "print(my_regression_report(y_test,y_p,x_train))\n",
    "print()\n",
    "\n",
    "# SVR\n",
    "reg_pipeline = make_pipeline(SVR(gamma='auto'))\n",
    "reg_pipeline.fit(x_train, y_train)\n",
    "y_p = reg_pipeline.predict(x_test)\n",
    "\n",
    "print('Epsilon-Support Vector Regression:')\n",
    "print(my_regression_report(y_test,y_p,x_train))\n",
    "print()\n",
    "\n",
    "# Random forest\n",
    "reg_pipeline = make_pipeline(RandomForestRegressor(n_estimators=1000, random_state=17))\n",
    "reg_pipeline.fit(x_train, y_train)\n",
    "y_p = reg_pipeline.predict(x_test)\n",
    "\n",
    "print('RandomForest Regression:')\n",
    "print(my_regression_report(y_test,y_p,x_train))\n",
    "print()"
   ]
  },
  {
   "cell_type": "markdown",
   "metadata": {},
   "source": [
    "## f2 + noise"
   ]
  },
  {
   "cell_type": "code",
   "execution_count": 393,
   "metadata": {},
   "outputs": [],
   "source": [
    "f2 = lambda x: 10*np.sin(x)+x**2"
   ]
  },
  {
   "cell_type": "code",
   "execution_count": 419,
   "metadata": {},
   "outputs": [
    {
     "data": {
      "text/plain": [
       "[<matplotlib.lines.Line2D at 0x1bdb5e09e08>]"
      ]
     },
     "execution_count": 419,
     "metadata": {},
     "output_type": "execute_result"
    },
    {
     "data": {
      "image/png": "[encoded data removed]",
      "text/plain": [
       "<Figure size 1008x288 with 1 Axes>"
      ]
     },
     "metadata": {
      "needs_background": "light"
     },
     "output_type": "display_data"
    }
   ],
   "source": [
    "import matplotlib.pyplot as plt\n",
    "\n",
    "x_train, x_test, y_train, y_test = dataset(f2,1000)\n",
    "\n",
    "y_train = inject_noise(y_train)\n",
    "y_test = inject_noise(y_test)\n",
    "\n",
    "fig, ax = plt.subplots(figsize=(14,4))\n",
    "ax.plot(x_test[:,0], y_test)"
   ]
  },
  {
   "cell_type": "code",
   "execution_count": 395,
   "metadata": {},
   "outputs": [],
   "source": [
    "from sklearn.preprocessing import StandardScaler\n",
    "\n",
    "x_tr = np.hstack((x_train,np.sin(x_train)))\n",
    "x_te = np.hstack((x_test,np.sin(x_test)))\n",
    "\n",
    "# Data noramlization\n",
    "z_scaler = StandardScaler()\n",
    "x_train = z_scaler.fit_transform(x_train)\n",
    "x_test = z_scaler.transform(x_test)\n",
    "\n",
    "# Data noramlization\n",
    "z_scaler = StandardScaler()\n",
    "x_tr = z_scaler.fit_transform(x_tr)\n",
    "x_te = z_scaler.transform(x_te)"
   ]
  },
  {
   "cell_type": "code",
   "execution_count": 396,
   "metadata": {},
   "outputs": [
    {
     "name": "stdout",
     "output_type": "stream",
     "text": [
      "Linear regression:\n",
      "R2: -0.00\n",
      "R2 adjusted: -0.00\n",
      "MAE: 115.27\n",
      "MSE: 19090.02\n",
      "\n",
      "Polynomial regression:\n",
      "R2: 0.87\n",
      "R2 adjusted: 0.87\n",
      "MAE: 39.41\n",
      "MSE: 2438.94\n",
      "\n",
      "Ridge regression:\n",
      "R2: 0.87\n",
      "R2 adjusted: 0.87\n",
      "MAE: 39.39\n",
      "MSE: 2440.23\n",
      "\n",
      "Lasso regression:\n",
      "R2: 0.87\n",
      "R2 adjusted: 0.87\n",
      "MAE: 39.37\n",
      "MSE: 2445.65\n",
      "\n",
      "Poly + trig regression:\n",
      "R2: 0.87\n",
      "R2 adjusted: 0.87\n",
      "MAE: 40.25\n",
      "MSE: 2446.76\n",
      "\n",
      "Multi-layer Perceptron regressor:\n",
      "R2: 0.87\n",
      "R2 adjusted: 0.87\n",
      "MAE: 39.84\n",
      "MSE: 2440.81\n",
      "\n",
      "Epsilon-Support Vector Regression:\n",
      "R2: 0.61\n",
      "R2 adjusted: 0.61\n",
      "MAE: 66.16\n",
      "MSE: 7495.92\n",
      "\n",
      "RandomForest Regression:\n",
      "R2: 0.82\n",
      "R2 adjusted: 0.82\n",
      "MAE: 48.17\n",
      "MSE: 3494.61\n",
      "\n"
     ]
    }
   ],
   "source": [
    "# Linear regression\n",
    "lreg = LinearRegression(fit_intercept=True)\n",
    "lreg.fit(x_train, y_train)\n",
    "y_p = lreg.predict(x_test)\n",
    "\n",
    "print('Linear regression:')\n",
    "print(my_regression_report(y_test,y_p,x_train))\n",
    "print()\n",
    "\n",
    "\n",
    "# Polinomial regression\n",
    "reg_pipeline = make_pipeline(PolynomialFeatures(4), LinearRegression())\n",
    "reg_pipeline.fit(x_train, y_train)\n",
    "y_p = reg_pipeline.predict(x_test)\n",
    "\n",
    "print('Polynomial regression:')\n",
    "print(my_regression_report(y_test,y_p,x_train))\n",
    "print()\n",
    "\n",
    "\n",
    "# Ridge regression\n",
    "reg_pipeline = make_pipeline(PolynomialFeatures(4), Ridge(alpha=0.5))\n",
    "reg_pipeline.fit(x_train, y_train)\n",
    "y_p = reg_pipeline.predict(x_test)\n",
    "\n",
    "print('Ridge regression:')\n",
    "print(my_regression_report(y_test,y_p,x_train))\n",
    "print()\n",
    "\n",
    "\n",
    "# Lasso regression\n",
    "reg_pipeline = make_pipeline(PolynomialFeatures(4), Lasso(alpha=0.5))\n",
    "reg_pipeline.fit(x_train, y_train)\n",
    "y_p = reg_pipeline.predict(x_test)\n",
    "\n",
    "print('Lasso regression:')\n",
    "print(my_regression_report(y_test,y_p,x_train))\n",
    "print()\n",
    "\n",
    "\n",
    "# Polynomial + trigonometric\n",
    "reg_pipeline = make_pipeline(PolynomialFeatures(4), LinearRegression())\n",
    "\n",
    "reg_pipeline.fit(x_tr, y_train)\n",
    "y_p = reg_pipeline.predict(x_te)\n",
    "\n",
    "print('Poly + trig regression:')\n",
    "print(my_regression_report(y_test,y_p,x_tr))\n",
    "print()\n",
    "\n",
    "# MLPR (neural net)\n",
    "reg_pipeline = make_pipeline(MLPRegressor(random_state=17, max_iter=100000))\n",
    "reg_pipeline.fit(x_train, y_train)\n",
    "y_p = reg_pipeline.predict(x_test)\n",
    "\n",
    "print('Multi-layer Perceptron regressor:')\n",
    "print(my_regression_report(y_test,y_p,x_train))\n",
    "print()\n",
    "\n",
    "# SVR\n",
    "reg_pipeline = make_pipeline(SVR(gamma='auto'))\n",
    "reg_pipeline.fit(x_train, y_train)\n",
    "y_p = reg_pipeline.predict(x_test)\n",
    "\n",
    "print('Epsilon-Support Vector Regression:')\n",
    "print(my_regression_report(y_test,y_p,x_train))\n",
    "print()\n",
    "\n",
    "# Random forest\n",
    "reg_pipeline = make_pipeline(RandomForestRegressor(n_estimators=1000, random_state=17))\n",
    "reg_pipeline.fit(x_train, y_train)\n",
    "y_p = reg_pipeline.predict(x_test)\n",
    "\n",
    "print('RandomForest Regression:')\n",
    "print(my_regression_report(y_test,y_p,x_train))\n",
    "print()"
   ]
  },
  {
   "cell_type": "markdown",
   "metadata": {},
   "source": [
    "## f3"
   ]
  },
  {
   "cell_type": "code",
   "execution_count": 397,
   "metadata": {},
   "outputs": [],
   "source": [
    "f3 = lambda x: np.sign(x)*(x**2+300) + 20*np.sin(x)"
   ]
  },
  {
   "cell_type": "code",
   "execution_count": 405,
   "metadata": {},
   "outputs": [
    {
     "data": {
      "text/plain": [
       "[<matplotlib.lines.Line2D at 0x1bdadd93e88>]"
      ]
     },
     "execution_count": 405,
     "metadata": {},
     "output_type": "execute_result"
    },
    {
     "data": {
      "image/png": "[encoded data removed]",
      "text/plain": [
       "<Figure size 1008x288 with 1 Axes>"
      ]
     },
     "metadata": {
      "needs_background": "light"
     },
     "output_type": "display_data"
    }
   ],
   "source": [
    "import matplotlib.pyplot as plt\n",
    "\n",
    "x_train, x_test, y_train, y_test = dataset(f3,1000)\n",
    "\n",
    "fig, ax = plt.subplots(figsize=(14,4))\n",
    "ax.plot(x_test[:,0], y_test)"
   ]
  },
  {
   "cell_type": "code",
   "execution_count": 406,
   "metadata": {},
   "outputs": [
    {
     "data": {
      "text/plain": [
       "(700, 1)"
      ]
     },
     "execution_count": 406,
     "metadata": {},
     "output_type": "execute_result"
    }
   ],
   "source": [
    "x_train.shape"
   ]
  },
  {
   "cell_type": "code",
   "execution_count": 407,
   "metadata": {},
   "outputs": [],
   "source": [
    "from sklearn.preprocessing import StandardScaler\n",
    "\n",
    "x_tr = np.hstack((x_train,np.sin(x_train)))\n",
    "x_te = np.hstack((x_test,np.sin(x_test)))\n",
    "\n",
    "# Data noramlization\n",
    "z_scaler = StandardScaler()\n",
    "x_train = z_scaler.fit_transform(x_train)\n",
    "x_test = z_scaler.transform(x_test)\n",
    "\n",
    "# Data noramlization\n",
    "z_scaler = StandardScaler()\n",
    "x_tr = z_scaler.fit_transform(x_tr)\n",
    "x_te = z_scaler.transform(x_te)"
   ]
  },
  {
   "cell_type": "code",
   "execution_count": 408,
   "metadata": {},
   "outputs": [
    {
     "name": "stdout",
     "output_type": "stream",
     "text": [
      "Linear regression:\n",
      "R2: 0.93\n",
      "R2 adjusted: 0.93\n",
      "MAE: 91.97\n",
      "MSE: 15274.10\n",
      "\n",
      "Polynomial regression:\n",
      "R2: 0.94\n",
      "R2 adjusted: 0.94\n",
      "MAE: 79.01\n",
      "MSE: 12248.03\n",
      "\n",
      "Ridge regression:\n",
      "R2: 0.94\n",
      "R2 adjusted: 0.94\n",
      "MAE: 78.91\n",
      "MSE: 12246.11\n",
      "\n",
      "Lasso regression:\n",
      "R2: 0.94\n",
      "R2 adjusted: 0.94\n",
      "MAE: 78.73\n",
      "MSE: 12200.96\n",
      "\n",
      "Poly + trig regression:\n",
      "R2: 0.95\n",
      "R2 adjusted: 0.95\n",
      "MAE: 76.54\n",
      "MSE: 10426.38\n",
      "\n",
      "Multi-layer Perceptron regressor:\n",
      "R2: 0.95\n",
      "R2 adjusted: 0.95\n",
      "MAE: 63.64\n",
      "MSE: 9575.31\n",
      "\n",
      "Epsilon-Support Vector Regression:\n",
      "R2: 0.63\n",
      "R2 adjusted: 0.63\n",
      "MAE: 253.21\n",
      "MSE: 75546.17\n",
      "\n",
      "RandomForest Regression:\n",
      "R2: 1.00\n",
      "R2 adjusted: 1.00\n",
      "MAE: 1.18\n",
      "MSE: 76.33\n",
      "\n"
     ]
    }
   ],
   "source": [
    "# Linear regression\n",
    "lreg = LinearRegression(fit_intercept=True)\n",
    "lreg.fit(x_train, y_train)\n",
    "y_p = lreg.predict(x_test)\n",
    "\n",
    "print('Linear regression:')\n",
    "print(my_regression_report(y_test,y_p,x_train))\n",
    "print()\n",
    "\n",
    "\n",
    "# Polinomial regression\n",
    "reg_pipeline = make_pipeline(PolynomialFeatures(4), LinearRegression())\n",
    "reg_pipeline.fit(x_train, y_train)\n",
    "y_p = reg_pipeline.predict(x_test)\n",
    "\n",
    "print('Polynomial regression:')\n",
    "print(my_regression_report(y_test,y_p,x_train))\n",
    "print()\n",
    "\n",
    "\n",
    "# Ridge regression\n",
    "reg_pipeline = make_pipeline(PolynomialFeatures(4), Ridge(alpha=0.5))\n",
    "reg_pipeline.fit(x_train, y_train)\n",
    "y_p = reg_pipeline.predict(x_test)\n",
    "\n",
    "print('Ridge regression:')\n",
    "print(my_regression_report(y_test,y_p,x_train))\n",
    "print()\n",
    "\n",
    "\n",
    "# Lasso regression\n",
    "reg_pipeline = make_pipeline(PolynomialFeatures(4), Lasso(alpha=0.5))\n",
    "reg_pipeline.fit(x_train, y_train)\n",
    "y_p = reg_pipeline.predict(x_test)\n",
    "\n",
    "print('Lasso regression:')\n",
    "print(my_regression_report(y_test,y_p,x_train))\n",
    "print()\n",
    "\n",
    "\n",
    "# Polynomial + trigonometric\n",
    "reg_pipeline = make_pipeline(PolynomialFeatures(4), LinearRegression())\n",
    "\n",
    "reg_pipeline.fit(x_tr, y_train)\n",
    "y_p = reg_pipeline.predict(x_te)\n",
    "\n",
    "print('Poly + trig regression:')\n",
    "print(my_regression_report(y_test,y_p,x_tr))\n",
    "print()\n",
    "\n",
    "# MLPR (neural net)\n",
    "reg_pipeline = make_pipeline( MLPRegressor(random_state=17, max_iter=100000))\n",
    "reg_pipeline.fit(x_train, y_train)\n",
    "y_p = reg_pipeline.predict(x_test)\n",
    "\n",
    "print('Multi-layer Perceptron regressor:')\n",
    "print(my_regression_report(y_test,y_p,x_train))\n",
    "print()\n",
    "\n",
    "# SVR\n",
    "reg_pipeline = make_pipeline(SVR(gamma='auto'))\n",
    "reg_pipeline.fit(x_train, y_train)\n",
    "y_p = reg_pipeline.predict(x_test)\n",
    "\n",
    "print('Epsilon-Support Vector Regression:')\n",
    "print(my_regression_report(y_test,y_p,x_train))\n",
    "print()\n",
    "\n",
    "# Random forest\n",
    "reg_pipeline = make_pipeline(RandomForestRegressor(n_estimators=1000, random_state=17))\n",
    "reg_pipeline.fit(x_train, y_train)\n",
    "y_p = reg_pipeline.predict(x_test)\n",
    "\n",
    "print('RandomForest Regression:')\n",
    "print(my_regression_report(y_test,y_p,x_train))\n",
    "print()"
   ]
  },
  {
   "cell_type": "markdown",
   "metadata": {},
   "source": [
    "## f3 + noise"
   ]
  },
  {
   "cell_type": "code",
   "execution_count": 414,
   "metadata": {},
   "outputs": [
    {
     "data": {
      "text/plain": [
       "[<matplotlib.lines.Line2D at 0x1bdb5c4d188>]"
      ]
     },
     "execution_count": 414,
     "metadata": {},
     "output_type": "execute_result"
    },
    {
     "data": {
      "image/png": "[encoded data removed]",
      "text/plain": [
       "<Figure size 1008x288 with 1 Axes>"
      ]
     },
     "metadata": {
      "needs_background": "light"
     },
     "output_type": "display_data"
    }
   ],
   "source": [
    "import matplotlib.pyplot as plt\n",
    "\n",
    "x_train, x_test, y_train, y_test = dataset(f3,1000)\n",
    "\n",
    "y_train = inject_noise(y_train)\n",
    "y_test = inject_noise(y_test)\n",
    "\n",
    "fig, ax = plt.subplots(figsize=(14,4))\n",
    "ax.plot(x_test[:,0], y_test)"
   ]
  },
  {
   "cell_type": "code",
   "execution_count": 415,
   "metadata": {},
   "outputs": [],
   "source": [
    "from sklearn.preprocessing import StandardScaler\n",
    "\n",
    "x_tr = np.hstack((x_train,np.sin(x_train)))\n",
    "x_te = np.hstack((x_test,np.sin(x_test)))\n",
    "\n",
    "# Data noramlization\n",
    "z_scaler = StandardScaler()\n",
    "x_train = z_scaler.fit_transform(x_train)\n",
    "x_test = z_scaler.transform(x_test)\n",
    "\n",
    "# Data noramlization\n",
    "z_scaler = StandardScaler()\n",
    "x_tr = z_scaler.fit_transform(x_tr)\n",
    "x_te = z_scaler.transform(x_te)"
   ]
  },
  {
   "cell_type": "code",
   "execution_count": 416,
   "metadata": {},
   "outputs": [
    {
     "name": "stdout",
     "output_type": "stream",
     "text": [
      "Linear regression:\n",
      "R2: 0.92\n",
      "R2 adjusted: 0.92\n",
      "MAE: 100.12\n",
      "MSE: 17544.82\n",
      "\n",
      "Polynomial regression:\n",
      "R2: 0.93\n",
      "R2 adjusted: 0.93\n",
      "MAE: 89.79\n",
      "MSE: 15032.29\n",
      "\n",
      "Ridge regression:\n",
      "R2: 0.93\n",
      "R2 adjusted: 0.93\n",
      "MAE: 89.67\n",
      "MSE: 15025.28\n",
      "\n",
      "Lasso regression:\n",
      "R2: 0.93\n",
      "R2 adjusted: 0.93\n",
      "MAE: 89.35\n",
      "MSE: 14958.30\n",
      "\n",
      "Poly + trig regression:\n",
      "R2: 0.96\n",
      "R2 adjusted: 0.96\n",
      "MAE: 64.63\n",
      "MSE: 8274.31\n",
      "\n",
      "Multi-layer Perceptron regressor:\n",
      "R2: 0.94\n",
      "R2 adjusted: 0.94\n",
      "MAE: 76.34\n",
      "MSE: 12175.86\n",
      "\n",
      "Epsilon-Support Vector Regression:\n",
      "R2: 0.62\n",
      "R2 adjusted: 0.62\n",
      "MAE: 255.25\n",
      "MSE: 80183.68\n",
      "\n",
      "RandomForest Regression:\n",
      "R2: 0.98\n",
      "R2 adjusted: 0.98\n",
      "MAE: 49.13\n",
      "MSE: 3973.33\n",
      "\n"
     ]
    }
   ],
   "source": [
    "# Linear regression\n",
    "lreg = LinearRegression(fit_intercept=True)\n",
    "lreg.fit(x_train, y_train)\n",
    "y_p = lreg.predict(x_test)\n",
    "\n",
    "print('Linear regression:')\n",
    "print(my_regression_report(y_test,y_p,x_train))\n",
    "print()\n",
    "\n",
    "\n",
    "# Polinomial regression\n",
    "reg_pipeline = make_pipeline(PolynomialFeatures(4), LinearRegression())\n",
    "reg_pipeline.fit(x_train, y_train)\n",
    "y_p = reg_pipeline.predict(x_test)\n",
    "\n",
    "print('Polynomial regression:')\n",
    "print(my_regression_report(y_test,y_p,x_train))\n",
    "print()\n",
    "\n",
    "\n",
    "# Ridge regression\n",
    "reg_pipeline = make_pipeline(PolynomialFeatures(4), Ridge(alpha=0.5))\n",
    "reg_pipeline.fit(x_train, y_train)\n",
    "y_p = reg_pipeline.predict(x_test)\n",
    "\n",
    "print('Ridge regression:')\n",
    "print(my_regression_report(y_test,y_p,x_train))\n",
    "print()\n",
    "\n",
    "\n",
    "# Lasso regression\n",
    "reg_pipeline = make_pipeline(PolynomialFeatures(4), Lasso(alpha=0.5))\n",
    "reg_pipeline.fit(x_train, y_train)\n",
    "y_p = reg_pipeline.predict(x_test)\n",
    "\n",
    "print('Lasso regression:')\n",
    "print(my_regression_report(y_test,y_p,x_train))\n",
    "print()\n",
    "\n",
    "\n",
    "# Polynomial + trigonometric\n",
    "x_tr = np.hstack((x_train,np.sin(x_train)))\n",
    "x_te = np.hstack((x_test,np.sin(x_test)))\n",
    "reg_pipeline = make_pipeline(PolynomialFeatures(4), LinearRegression())\n",
    "\n",
    "reg_pipeline.fit(x_tr, y_train)\n",
    "y_p = reg_pipeline.predict(x_te)\n",
    "\n",
    "print('Poly + trig regression:')\n",
    "print(my_regression_report(y_test,y_p,x_tr))\n",
    "print()\n",
    "\n",
    "# MLPR (neural net)\n",
    "reg_pipeline = make_pipeline(MLPRegressor(random_state=17, max_iter=100000))\n",
    "reg_pipeline.fit(x_train, y_train)\n",
    "y_p = reg_pipeline.predict(x_test)\n",
    "\n",
    "print('Multi-layer Perceptron regressor:')\n",
    "print(my_regression_report(y_test,y_p,x_train))\n",
    "print()\n",
    "\n",
    "# SVR\n",
    "reg_pipeline = make_pipeline(SVR(gamma='auto'))\n",
    "reg_pipeline.fit(x_train, y_train)\n",
    "y_p = reg_pipeline.predict(x_test)\n",
    "\n",
    "print('Epsilon-Support Vector Regression:')\n",
    "print(my_regression_report(y_test,y_p,x_train))\n",
    "print()\n",
    "\n",
    "# Random forest\n",
    "reg_pipeline = make_pipeline(RandomForestRegressor(n_estimators=1000, random_state=17))\n",
    "reg_pipeline.fit(x_train, y_train)\n",
    "y_p = reg_pipeline.predict(x_test)\n",
    "\n",
    "print('RandomForest Regression:')\n",
    "print(my_regression_report(y_test,y_p,x_train))\n",
    "print()"
   ]
  },
  {
   "cell_type": "markdown",
   "metadata": {},
   "source": [
    "## Osservazioni\n",
    "1. SVR ha bisogno che i dati vengano normalizzati e ha bisogno di un train set molto grande. Infatti è sempre sotto agli altri\n",
    "2. SVR, MLP e random forest non hanno bisogno di PolynomialFeatures() siccome non sono lineari. Tutti sembrano giovare della normalizzazione dei dati che, attenzione, **va fatta dopo qualsiasi trasformazione del dataset**.\n",
    "3. MLP sembra essere stato il più flessibile, seguito dalle random forest, che sono davvero poco sensibili al rumore.\n",
    "4. Attenzione ai possibili `random_state` degli algoritmi! Come le random forest ad esempio.\n",
    "5. In tutti questi casi per migliorare le performances si può usare cross validation."
   ]
  },
  {
   "cell_type": "markdown",
   "metadata": {},
   "source": [
    "# Multivariate synthetic dataset"
   ]
  },
  {
   "cell_type": "code",
   "execution_count": 616,
   "metadata": {},
   "outputs": [],
   "source": [
    "from sklearn.datasets import make_regression\n",
    "\n",
    "X, y = make_regression(n_samples=2000, n_informative=500, n_features=50, noise=30, random_state=42)"
   ]
  },
  {
   "cell_type": "code",
   "execution_count": 617,
   "metadata": {},
   "outputs": [],
   "source": [
    "# Train test split\n",
    "x_train, x_test, y_train, y_test = train_test_split(X,y,test_size=.25, shuffle=True, random_state=17)"
   ]
  },
  {
   "cell_type": "code",
   "execution_count": 618,
   "metadata": {},
   "outputs": [],
   "source": [
    "# Normalization\n",
    "z_scaler = StandardScaler()\n",
    "x_train = z_scaler.fit_transform(x_train)\n",
    "x_test = z_scaler.transform(x_test)"
   ]
  },
  {
   "cell_type": "markdown",
   "metadata": {},
   "source": [
    "##### Regression & cross validation"
   ]
  },
  {
   "cell_type": "code",
   "execution_count": 619,
   "metadata": {},
   "outputs": [
    {
     "name": "stdout",
     "output_type": "stream",
     "text": [
      "Linear regression:\n",
      "R2: 0.99\n",
      "R2 adjusted: 0.99\n",
      "MAE: 24.28\n",
      "MSE: 932.79\n",
      "\n"
     ]
    }
   ],
   "source": [
    "# Linear regression\n",
    "lreg = LinearRegression(fit_intercept=True)\n",
    "lreg.fit(x_train, y_train)\n",
    "y_p = lreg.predict(x_test)\n",
    "\n",
    "print('Linear regression:')\n",
    "print(my_regression_report(y_test,y_p,x_train))\n",
    "print()"
   ]
  },
  {
   "cell_type": "code",
   "execution_count": 620,
   "metadata": {},
   "outputs": [
    {
     "data": {
      "text/plain": [
       "array([65.48133901, 44.76463089, 54.86507157, 65.29402925, 38.50470715,\n",
       "        0.69256054,  1.97633306, 31.75279127, 76.44044599, 50.67743003,\n",
       "       84.19039102, 15.53952864, 57.81631121, 79.25360506, 78.92347181,\n",
       "       35.97566728, 87.23553476, 75.52961262, 96.61540127, 94.81929688,\n",
       "        9.30783004, 18.87832486, 68.20640766, 87.18686328, 21.38824618,\n",
       "       51.12454304, 36.77298986, 55.29854975, 14.5101307 , 51.72590734,\n",
       "       84.75443123, 44.38630158, 25.42270889, 19.72544154, 10.67199596,\n",
       "       47.45620496, 96.28034664, 30.36788957, -0.55194174, 13.3157013 ,\n",
       "       46.59156295, 31.46778321, 25.91753781, 67.31910349, 50.8425319 ,\n",
       "       81.8035834 , 84.8420911 ,  4.09753962, 49.03401354, 54.1762225 ])"
      ]
     },
     "execution_count": 620,
     "metadata": {},
     "output_type": "execute_result"
    }
   ],
   "source": [
    "lreg.coef_"
   ]
  },
  {
   "cell_type": "markdown",
   "metadata": {},
   "source": [
    "Quando il numero di **informative** aumenta, aumentano anche i coefficienti della linear regression. Quando il numero id informative supera il numero di features il coefficienti della linear regression rimangono pressochè uguali."
   ]
  },
  {
   "cell_type": "code",
   "execution_count": 622,
   "metadata": {},
   "outputs": [
    {
     "name": "stdout",
     "output_type": "stream",
     "text": [
      "{'polynomialfeatures__degree': 1}\n",
      "\n",
      "Polynomial regression:\n",
      "R2: 0.99\n",
      "R2 adjusted: 0.99\n",
      "MAE: 24.28\n",
      "MSE: 932.80\n",
      "\n"
     ]
    }
   ],
   "source": [
    "from sklearn.model_selection import GridSearchCV\n",
    "\n",
    "# Polinomial regression + cross validation\n",
    "\n",
    "# Pipeline\n",
    "reg_pipeline = make_pipeline(PolynomialFeatures(), LinearRegression())\n",
    "\n",
    "# Parameters grid\n",
    "param_grid = {\n",
    "    'polynomialfeatures__degree': range(3)\n",
    "}\n",
    "\n",
    "# Gridsearch\n",
    "gs = GridSearchCV(reg_pipeline, param_grid, scoring='r2', cv=3, n_jobs=-1)\n",
    "gs.fit(x_train, y_train)\n",
    "print(gs.best_params_)\n",
    "print()\n",
    "\n",
    "# Best estimator\n",
    "est = gs.best_estimator_\n",
    "est.fit(x_train, y_train)\n",
    "y_p = est.predict(x_test)\n",
    "\n",
    "print('Polynomial regression:')\n",
    "print(my_regression_report(y_test,y_p,x_train))\n",
    "print()"
   ]
  },
  {
   "cell_type": "code",
   "execution_count": 623,
   "metadata": {},
   "outputs": [
    {
     "name": "stdout",
     "output_type": "stream",
     "text": [
      "{'polynomialfeatures__degree': 1, 'ridge__alpha': 1, 'ridge__fit_intercept': True}\n",
      "\n",
      "Ridge regression:\n",
      "R2: 0.99\n",
      "R2 adjusted: 0.99\n",
      "MAE: 24.26\n",
      "MSE: 932.24\n",
      "\n"
     ]
    }
   ],
   "source": [
    "# Ridge regression\n",
    "# Pipeline\n",
    "reg_pipeline = make_pipeline(PolynomialFeatures(), Ridge())\n",
    "\n",
    "# Parameters grid\n",
    "param_grid = {\n",
    "    'polynomialfeatures__degree': range(3),\n",
    "    'ridge__alpha': [0.1, 0.2, 0.5, 0.8, 1],\n",
    "    'ridge__fit_intercept': [True, False]\n",
    "\n",
    "}\n",
    "\n",
    "# Gridsearch\n",
    "gs = GridSearchCV(reg_pipeline, param_grid, scoring='r2', cv=3, n_jobs=-1)\n",
    "gs.fit(x_train, y_train)\n",
    "print(gs.best_params_)\n",
    "print()\n",
    "\n",
    "# Best estimator\n",
    "est = gs.best_estimator_\n",
    "est.fit(x_train, y_train)\n",
    "y_p = est.predict(x_test)\n",
    "\n",
    "print('Ridge regression:')\n",
    "print(my_regression_report(y_test,y_p,x_train))\n",
    "print()"
   ]
  },
  {
   "cell_type": "code",
   "execution_count": 624,
   "metadata": {},
   "outputs": [
    {
     "name": "stdout",
     "output_type": "stream",
     "text": [
      "{'lasso__alpha': 0.1, 'lasso__fit_intercept': True, 'polynomialfeatures__degree': 1}\n",
      "\n",
      "Lasso regression:\n",
      "R2: 0.99\n",
      "R2 adjusted: 0.99\n",
      "MAE: 24.25\n",
      "MSE: 932.30\n",
      "\n"
     ]
    }
   ],
   "source": [
    "# Lasso regression\n",
    "# Pipeline\n",
    "reg_pipeline = make_pipeline(PolynomialFeatures(), Lasso())\n",
    "\n",
    "# Parameters grid\n",
    "param_grid = {\n",
    "    'polynomialfeatures__degree': range(3),\n",
    "    'lasso__alpha': [0.1, 0.2, 0.5, 0.8, 1],\n",
    "    'lasso__fit_intercept': [True, False]\n",
    "\n",
    "}\n",
    "\n",
    "# Gridsearch\n",
    "gs = GridSearchCV(reg_pipeline, param_grid, scoring='r2', cv=3, n_jobs=-1)\n",
    "gs.fit(x_train, y_train)\n",
    "print(gs.best_params_)\n",
    "print()\n",
    "\n",
    "# Best estimator\n",
    "est = gs.best_estimator_\n",
    "est.fit(x_train, y_train)\n",
    "y_p = est.predict(x_test)\n",
    "\n",
    "print('Lasso regression:')\n",
    "print(my_regression_report(y_test,y_p,x_train))\n",
    "print()"
   ]
  },
  {
   "cell_type": "code",
   "execution_count": 625,
   "metadata": {},
   "outputs": [
    {
     "name": "stdout",
     "output_type": "stream",
     "text": [
      "{'activation': 'identity', 'solver': 'lbfgs'}\n",
      "\n",
      "Multi-layer Perceptron regressor:\n",
      "R2: 0.99\n",
      "R2 adjusted: 0.99\n",
      "MAE: 24.28\n",
      "MSE: 932.79\n",
      "\n"
     ]
    }
   ],
   "source": [
    "# MLPR (neural net)\n",
    "reg = MLPRegressor(random_state=17, max_iter=100000)\n",
    "# Parameters grid\n",
    "param_grid = {\n",
    "    'activation': ['identity', 'logistic', 'tanh', 'relu'],\n",
    "    'solver': ['lbfgs', 'sgd', 'adam']\n",
    "    #'learning_rate': ['constant', 'invscaling', 'adaptive']\n",
    "}\n",
    "\n",
    "# Gridsearch\n",
    "gs = GridSearchCV(reg, param_grid, scoring='r2', cv=3, n_jobs=-1)\n",
    "gs.fit(x_train, y_train)\n",
    "print(gs.best_params_)\n",
    "print()\n",
    "\n",
    "# Best estimator\n",
    "est = gs.best_estimator_\n",
    "est.fit(x_train, y_train)\n",
    "y_p = est.predict(x_test)\n",
    "\n",
    "print('Multi-layer Perceptron regressor:')\n",
    "print(my_regression_report(y_test,y_p,x_train))\n",
    "print()"
   ]
  },
  {
   "cell_type": "code",
   "execution_count": 627,
   "metadata": {},
   "outputs": [
    {
     "name": "stdout",
     "output_type": "stream",
     "text": [
      "{'C': 5, 'epsilon': 0.5, 'kernel': 'linear', 'shrinking': True}\n",
      "\n",
      "Epsilon-Support Vector Regression:\n",
      "R2: 0.99\n",
      "R2 adjusted: 0.99\n",
      "MAE: 24.59\n",
      "MSE: 947.25\n",
      "\n"
     ]
    }
   ],
   "source": [
    "# SVR\n",
    "reg = SVR(gamma='auto')\n",
    "# Parameters grid\n",
    "param_grid = {\n",
    "    'kernel': ['rbf', 'linear', 'poly', 'sigmoid'],\n",
    "    'C': [1, 3, 5, 7, 9],\n",
    "    'shrinking':[True, False],\n",
    "    'epsilon':[0.1,0.3,0.5,0.7]\n",
    "}\n",
    "\n",
    "# Gridsearch\n",
    "gs = GridSearchCV(reg, param_grid, scoring='r2', cv=3, n_jobs=-1)\n",
    "gs.fit(x_train, y_train)\n",
    "print(gs.best_params_)\n",
    "print()\n",
    "\n",
    "# Best estimator\n",
    "est = gs.best_estimator_\n",
    "est.fit(x_train, y_train)\n",
    "y_p = est.predict(x_test)\n",
    "\n",
    "print('Epsilon-Support Vector Regression:')\n",
    "print(my_regression_report(y_test,y_p,x_train))\n",
    "print()"
   ]
  },
  {
   "cell_type": "code",
   "execution_count": null,
   "metadata": {},
   "outputs": [],
   "source": [
    "# Random forest\n",
    "reg = RandomForestRegressor(n_estimators=100, random_state=17)\n",
    "# Parameters grid\n",
    "param_grid = {\n",
    "    'criterion': ['mae', 'mse'],\n",
    "    'min_samples_split': [2, 4, 6],\n",
    "    'min_samples_leaf': [1, 4, 8]\n",
    "}\n",
    "\n",
    "# Gridsearch\n",
    "gs = GridSearchCV(reg, param_grid, scoring='r2', cv=3, n_jobs=-1)\n",
    "gs.fit(x_train, y_train)\n",
    "print(gs.best_params_)\n",
    "print()\n",
    "\n",
    "# Best estimator\n",
    "est = RandomForestRegressor(n_estimators=500, random_state=17, **gs.best_params_)\n",
    "est.fit(x_train, y_train)\n",
    "y_p = est.predict(x_test)\n",
    "\n",
    "print('RandomForest Regression:')\n",
    "print(my_regression_report(y_test,y_p,x_train))\n",
    "print()"
   ]
  },
  {
   "cell_type": "markdown",
   "metadata": {},
   "source": [
    "# WWII Temperatures dataset"
   ]
  },
  {
   "cell_type": "code",
   "execution_count": 1,
   "metadata": {},
   "outputs": [],
   "source": [
    "import numpy as np\n",
    "import pandas as pd"
   ]
  },
  {
   "cell_type": "code",
   "execution_count": 2,
   "metadata": {},
   "outputs": [
    {
     "name": "stderr",
     "output_type": "stream",
     "text": [
      "C:\\Users\\mette\\Anaconda3\\lib\\site-packages\\IPython\\core\\interactiveshell.py:3058: DtypeWarning: Columns (7,8,18,25) have mixed types. Specify dtype option on import or set low_memory=False.\n",
      "  interactivity=interactivity, compiler=compiler, result=result)\n"
     ]
    }
   ],
   "source": [
    "df = pd.read_csv('weatherww2/Summary of Weather.csv')"
   ]
  },
  {
   "cell_type": "markdown",
   "metadata": {},
   "source": [
    "##### Pulizia delle colonne con multiple type"
   ]
  },
  {
   "cell_type": "code",
   "execution_count": 3,
   "metadata": {},
   "outputs": [
    {
     "name": "stdout",
     "output_type": "stream",
     "text": [
      "<class 'pandas.core.frame.DataFrame'>\n",
      "RangeIndex: 119040 entries, 0 to 119039\n",
      "Data columns (total 4 columns):\n",
      "Snowfall       117877 non-null object\n",
      "PoorWeather    34237 non-null object\n",
      "SNF            117877 non-null object\n",
      "TSHDSBRSGF     34237 non-null object\n",
      "dtypes: object(4)\n",
      "memory usage: 3.6+ MB\n"
     ]
    }
   ],
   "source": [
    "# DtypeWarning: Columns (7,8,18,25) have mixed types. \n",
    "bad_cols = [7,8,18,25]\n",
    "df[df.columns[bad_cols]].info()    "
   ]
  },
  {
   "cell_type": "code",
   "execution_count": 4,
   "metadata": {},
   "outputs": [
    {
     "name": "stdout",
     "output_type": "stream",
     "text": [
      "<class 'pandas.core.frame.DataFrame'>\n",
      "RangeIndex: 119040 entries, 0 to 119039\n",
      "Data columns (total 4 columns):\n",
      "Snowfall       117833 non-null float64\n",
      "PoorWeather    33553 non-null float64\n",
      "SNF            117833 non-null float64\n",
      "TSHDSBRSGF     33553 non-null float64\n",
      "dtypes: float64(4)\n",
      "memory usage: 3.6 MB\n"
     ]
    }
   ],
   "source": [
    "# Ci sono delle stringe nelle colonne che impediscono il casting a nuerico. COnverto queste stringhe to NaN\n",
    "for c in bad_cols:\n",
    "    df[df.columns[c]] = pd.to_numeric(df[df.columns[c]], errors='coerce')\n",
    "\n",
    "# Risultato\n",
    "df[df.columns[bad_cols]].info() "
   ]
  },
  {
   "cell_type": "markdown",
   "metadata": {},
   "source": [
    "##### Esplorazione del dataset"
   ]
  },
  {
   "cell_type": "markdown",
   "metadata": {},
   "source": [
    "##### 1. Check dei tipi & missing values\n",
    "Verifico che il casting sia andato a buon fine e correggo eventuali errori e dati inconsistenti (es stringa in una colonna di float)."
   ]
  },
  {
   "cell_type": "code",
   "execution_count": 5,
   "metadata": {
    "scrolled": true
   },
   "outputs": [
    {
     "name": "stdout",
     "output_type": "stream",
     "text": [
      "<class 'pandas.core.frame.DataFrame'>\n",
      "RangeIndex: 119040 entries, 0 to 119039\n",
      "Data columns (total 31 columns):\n",
      "STA            119040 non-null int64\n",
      "Date           119040 non-null object\n",
      "Precip         119040 non-null object\n",
      "WindGustSpd    532 non-null float64\n",
      "MaxTemp        119040 non-null float64\n",
      "MinTemp        119040 non-null float64\n",
      "MeanTemp       119040 non-null float64\n",
      "Snowfall       117833 non-null float64\n",
      "PoorWeather    33553 non-null float64\n",
      "YR             119040 non-null int64\n",
      "MO             119040 non-null int64\n",
      "DA             119040 non-null int64\n",
      "PRCP           117108 non-null object\n",
      "DR             533 non-null float64\n",
      "SPD            532 non-null float64\n",
      "MAX            118566 non-null float64\n",
      "MIN            118572 non-null float64\n",
      "MEA            118542 non-null float64\n",
      "SNF            117833 non-null float64\n",
      "SND            5563 non-null float64\n",
      "FT             0 non-null float64\n",
      "FB             0 non-null float64\n",
      "FTI            0 non-null float64\n",
      "ITH            0 non-null float64\n",
      "PGT            525 non-null float64\n",
      "TSHDSBRSGF     33553 non-null float64\n",
      "SD3            0 non-null float64\n",
      "RHX            0 non-null float64\n",
      "RHN            0 non-null float64\n",
      "RVG            0 non-null float64\n",
      "WTE            0 non-null float64\n",
      "dtypes: float64(24), int64(4), object(3)\n",
      "memory usage: 28.2+ MB\n"
     ]
    }
   ],
   "source": [
    "df.info()"
   ]
  },
  {
   "cell_type": "code",
   "execution_count": 6,
   "metadata": {},
   "outputs": [
    {
     "data": {
      "text/html": [
       "<div>\n",
       "<style scoped>\n",
       "    .dataframe tbody tr th:only-of-type {\n",
       "        vertical-align: middle;\n",
       "    }\n",
       "\n",
       "    .dataframe tbody tr th {\n",
       "        vertical-align: top;\n",
       "    }\n",
       "\n",
       "    .dataframe thead th {\n",
       "        text-align: right;\n",
       "    }\n",
       "</style>\n",
       "<table border=\"1\" class=\"dataframe\">\n",
       "  <thead>\n",
       "    <tr style=\"text-align: right;\">\n",
       "      <th></th>\n",
       "      <th>Precip</th>\n",
       "      <th>PRCP</th>\n",
       "    </tr>\n",
       "  </thead>\n",
       "  <tbody>\n",
       "    <tr>\n",
       "      <td>0</td>\n",
       "      <td>1.016</td>\n",
       "      <td>0.04</td>\n",
       "    </tr>\n",
       "    <tr>\n",
       "      <td>1</td>\n",
       "      <td>0</td>\n",
       "      <td>0</td>\n",
       "    </tr>\n",
       "    <tr>\n",
       "      <td>2</td>\n",
       "      <td>2.54</td>\n",
       "      <td>0.1</td>\n",
       "    </tr>\n",
       "    <tr>\n",
       "      <td>3</td>\n",
       "      <td>2.54</td>\n",
       "      <td>0.1</td>\n",
       "    </tr>\n",
       "    <tr>\n",
       "      <td>4</td>\n",
       "      <td>0</td>\n",
       "      <td>0</td>\n",
       "    </tr>\n",
       "    <tr>\n",
       "      <td>...</td>\n",
       "      <td>...</td>\n",
       "      <td>...</td>\n",
       "    </tr>\n",
       "    <tr>\n",
       "      <td>119035</td>\n",
       "      <td>0</td>\n",
       "      <td>0</td>\n",
       "    </tr>\n",
       "    <tr>\n",
       "      <td>119036</td>\n",
       "      <td>9.906</td>\n",
       "      <td>0.39</td>\n",
       "    </tr>\n",
       "    <tr>\n",
       "      <td>119037</td>\n",
       "      <td>0</td>\n",
       "      <td>0</td>\n",
       "    </tr>\n",
       "    <tr>\n",
       "      <td>119038</td>\n",
       "      <td>0</td>\n",
       "      <td>0</td>\n",
       "    </tr>\n",
       "    <tr>\n",
       "      <td>119039</td>\n",
       "      <td>0</td>\n",
       "      <td>0</td>\n",
       "    </tr>\n",
       "  </tbody>\n",
       "</table>\n",
       "<p>119040 rows × 2 columns</p>\n",
       "</div>"
      ],
      "text/plain": [
       "       Precip  PRCP\n",
       "0       1.016  0.04\n",
       "1           0     0\n",
       "2        2.54   0.1\n",
       "3        2.54   0.1\n",
       "4           0     0\n",
       "...       ...   ...\n",
       "119035      0     0\n",
       "119036  9.906  0.39\n",
       "119037      0     0\n",
       "119038      0     0\n",
       "119039      0     0\n",
       "\n",
       "[119040 rows x 2 columns]"
      ]
     },
     "execution_count": 6,
     "metadata": {},
     "output_type": "execute_result"
    }
   ],
   "source": [
    "# campi che ora sono ancora 'object'\n",
    "df[['Precip', 'PRCP']]"
   ]
  },
  {
   "cell_type": "code",
   "execution_count": 7,
   "metadata": {},
   "outputs": [],
   "source": [
    "# Conversione di altri campi che ora sono ancora 'object'\n",
    "to_conv = ['Precip', 'PRCP']\n",
    "for field in to_conv:\n",
    "    df[field] = pd.to_numeric(df[field], errors='coerce')\n",
    "\n",
    "# COnversione date\n",
    "df['Date'] = pd.to_datetime(df['Date'], dayfirst=True)"
   ]
  },
  {
   "cell_type": "code",
   "execution_count": 8,
   "metadata": {},
   "outputs": [
    {
     "name": "stdout",
     "output_type": "stream",
     "text": [
      "<class 'pandas.core.frame.DataFrame'>\n",
      "RangeIndex: 119040 entries, 0 to 119039\n",
      "Data columns (total 31 columns):\n",
      "STA            119040 non-null int64\n",
      "Date           119040 non-null datetime64[ns]\n",
      "Precip         102287 non-null float64\n",
      "WindGustSpd    532 non-null float64\n",
      "MaxTemp        119040 non-null float64\n",
      "MinTemp        119040 non-null float64\n",
      "MeanTemp       119040 non-null float64\n",
      "Snowfall       117833 non-null float64\n",
      "PoorWeather    33553 non-null float64\n",
      "YR             119040 non-null int64\n",
      "MO             119040 non-null int64\n",
      "DA             119040 non-null int64\n",
      "PRCP           100355 non-null float64\n",
      "DR             533 non-null float64\n",
      "SPD            532 non-null float64\n",
      "MAX            118566 non-null float64\n",
      "MIN            118572 non-null float64\n",
      "MEA            118542 non-null float64\n",
      "SNF            117833 non-null float64\n",
      "SND            5563 non-null float64\n",
      "FT             0 non-null float64\n",
      "FB             0 non-null float64\n",
      "FTI            0 non-null float64\n",
      "ITH            0 non-null float64\n",
      "PGT            525 non-null float64\n",
      "TSHDSBRSGF     33553 non-null float64\n",
      "SD3            0 non-null float64\n",
      "RHX            0 non-null float64\n",
      "RHN            0 non-null float64\n",
      "RVG            0 non-null float64\n",
      "WTE            0 non-null float64\n",
      "dtypes: datetime64[ns](1), float64(26), int64(4)\n",
      "memory usage: 28.2 MB\n"
     ]
    }
   ],
   "source": [
    "df.info()"
   ]
  },
  {
   "cell_type": "markdown",
   "metadata": {},
   "source": [
    "##### 2. Check dei valori\n",
    "Verifico che ciascun campo d'interesse abbia un intervallo di valori valido, escludendo gli outliers."
   ]
  },
  {
   "cell_type": "code",
   "execution_count": 9,
   "metadata": {},
   "outputs": [
    {
     "data": {
      "text/html": [
       "<div>\n",
       "<style scoped>\n",
       "    .dataframe tbody tr th:only-of-type {\n",
       "        vertical-align: middle;\n",
       "    }\n",
       "\n",
       "    .dataframe tbody tr th {\n",
       "        vertical-align: top;\n",
       "    }\n",
       "\n",
       "    .dataframe thead th {\n",
       "        text-align: right;\n",
       "    }\n",
       "</style>\n",
       "<table border=\"1\" class=\"dataframe\">\n",
       "  <thead>\n",
       "    <tr style=\"text-align: right;\">\n",
       "      <th></th>\n",
       "      <th>STA</th>\n",
       "      <th>Precip</th>\n",
       "      <th>WindGustSpd</th>\n",
       "      <th>MaxTemp</th>\n",
       "      <th>MinTemp</th>\n",
       "      <th>MeanTemp</th>\n",
       "      <th>Snowfall</th>\n",
       "      <th>PoorWeather</th>\n",
       "      <th>YR</th>\n",
       "      <th>MO</th>\n",
       "      <th>...</th>\n",
       "      <th>FB</th>\n",
       "      <th>FTI</th>\n",
       "      <th>ITH</th>\n",
       "      <th>PGT</th>\n",
       "      <th>TSHDSBRSGF</th>\n",
       "      <th>SD3</th>\n",
       "      <th>RHX</th>\n",
       "      <th>RHN</th>\n",
       "      <th>RVG</th>\n",
       "      <th>WTE</th>\n",
       "    </tr>\n",
       "  </thead>\n",
       "  <tbody>\n",
       "    <tr>\n",
       "      <td>count</td>\n",
       "      <td>119040.000000</td>\n",
       "      <td>102287.000000</td>\n",
       "      <td>532.000000</td>\n",
       "      <td>119040.000000</td>\n",
       "      <td>119040.000000</td>\n",
       "      <td>119040.000000</td>\n",
       "      <td>117833.000000</td>\n",
       "      <td>3.355300e+04</td>\n",
       "      <td>119040.000000</td>\n",
       "      <td>119040.000000</td>\n",
       "      <td>...</td>\n",
       "      <td>0.0</td>\n",
       "      <td>0.0</td>\n",
       "      <td>0.0</td>\n",
       "      <td>525.000000</td>\n",
       "      <td>3.355300e+04</td>\n",
       "      <td>0.0</td>\n",
       "      <td>0.0</td>\n",
       "      <td>0.0</td>\n",
       "      <td>0.0</td>\n",
       "      <td>0.0</td>\n",
       "    </tr>\n",
       "    <tr>\n",
       "      <td>mean</td>\n",
       "      <td>29659.435795</td>\n",
       "      <td>3.753917</td>\n",
       "      <td>37.774534</td>\n",
       "      <td>27.045111</td>\n",
       "      <td>17.789511</td>\n",
       "      <td>22.411631</td>\n",
       "      <td>0.245544</td>\n",
       "      <td>4.027963e+06</td>\n",
       "      <td>43.805284</td>\n",
       "      <td>6.726016</td>\n",
       "      <td>...</td>\n",
       "      <td>NaN</td>\n",
       "      <td>NaN</td>\n",
       "      <td>NaN</td>\n",
       "      <td>12.085333</td>\n",
       "      <td>4.027963e+06</td>\n",
       "      <td>NaN</td>\n",
       "      <td>NaN</td>\n",
       "      <td>NaN</td>\n",
       "      <td>NaN</td>\n",
       "      <td>NaN</td>\n",
       "    </tr>\n",
       "    <tr>\n",
       "      <td>std</td>\n",
       "      <td>20953.209402</td>\n",
       "      <td>11.566633</td>\n",
       "      <td>10.297808</td>\n",
       "      <td>8.717817</td>\n",
       "      <td>8.334572</td>\n",
       "      <td>8.297982</td>\n",
       "      <td>2.626600</td>\n",
       "      <td>6.333825e+07</td>\n",
       "      <td>1.136718</td>\n",
       "      <td>3.425561</td>\n",
       "      <td>...</td>\n",
       "      <td>NaN</td>\n",
       "      <td>NaN</td>\n",
       "      <td>NaN</td>\n",
       "      <td>5.731328</td>\n",
       "      <td>6.333825e+07</td>\n",
       "      <td>NaN</td>\n",
       "      <td>NaN</td>\n",
       "      <td>NaN</td>\n",
       "      <td>NaN</td>\n",
       "      <td>NaN</td>\n",
       "    </tr>\n",
       "    <tr>\n",
       "      <td>min</td>\n",
       "      <td>10001.000000</td>\n",
       "      <td>0.000000</td>\n",
       "      <td>18.520000</td>\n",
       "      <td>-33.333333</td>\n",
       "      <td>-38.333333</td>\n",
       "      <td>-35.555556</td>\n",
       "      <td>0.000000</td>\n",
       "      <td>0.000000e+00</td>\n",
       "      <td>40.000000</td>\n",
       "      <td>1.000000</td>\n",
       "      <td>...</td>\n",
       "      <td>NaN</td>\n",
       "      <td>NaN</td>\n",
       "      <td>NaN</td>\n",
       "      <td>0.000000</td>\n",
       "      <td>0.000000e+00</td>\n",
       "      <td>NaN</td>\n",
       "      <td>NaN</td>\n",
       "      <td>NaN</td>\n",
       "      <td>NaN</td>\n",
       "      <td>NaN</td>\n",
       "    </tr>\n",
       "    <tr>\n",
       "      <td>25%</td>\n",
       "      <td>11801.000000</td>\n",
       "      <td>0.000000</td>\n",
       "      <td>29.632000</td>\n",
       "      <td>25.555556</td>\n",
       "      <td>15.000000</td>\n",
       "      <td>20.555556</td>\n",
       "      <td>0.000000</td>\n",
       "      <td>1.000000e+00</td>\n",
       "      <td>43.000000</td>\n",
       "      <td>4.000000</td>\n",
       "      <td>...</td>\n",
       "      <td>NaN</td>\n",
       "      <td>NaN</td>\n",
       "      <td>NaN</td>\n",
       "      <td>8.500000</td>\n",
       "      <td>1.000000e+00</td>\n",
       "      <td>NaN</td>\n",
       "      <td>NaN</td>\n",
       "      <td>NaN</td>\n",
       "      <td>NaN</td>\n",
       "      <td>NaN</td>\n",
       "    </tr>\n",
       "    <tr>\n",
       "      <td>50%</td>\n",
       "      <td>22508.000000</td>\n",
       "      <td>0.000000</td>\n",
       "      <td>37.040000</td>\n",
       "      <td>29.444444</td>\n",
       "      <td>21.111111</td>\n",
       "      <td>25.555556</td>\n",
       "      <td>0.000000</td>\n",
       "      <td>1.000000e+00</td>\n",
       "      <td>44.000000</td>\n",
       "      <td>7.000000</td>\n",
       "      <td>...</td>\n",
       "      <td>NaN</td>\n",
       "      <td>NaN</td>\n",
       "      <td>NaN</td>\n",
       "      <td>11.600000</td>\n",
       "      <td>1.000000e+00</td>\n",
       "      <td>NaN</td>\n",
       "      <td>NaN</td>\n",
       "      <td>NaN</td>\n",
       "      <td>NaN</td>\n",
       "      <td>NaN</td>\n",
       "    </tr>\n",
       "    <tr>\n",
       "      <td>75%</td>\n",
       "      <td>33501.000000</td>\n",
       "      <td>1.524000</td>\n",
       "      <td>43.059000</td>\n",
       "      <td>31.666667</td>\n",
       "      <td>23.333333</td>\n",
       "      <td>27.222222</td>\n",
       "      <td>0.000000</td>\n",
       "      <td>1.000000e+00</td>\n",
       "      <td>45.000000</td>\n",
       "      <td>10.000000</td>\n",
       "      <td>...</td>\n",
       "      <td>NaN</td>\n",
       "      <td>NaN</td>\n",
       "      <td>NaN</td>\n",
       "      <td>15.000000</td>\n",
       "      <td>1.000000e+00</td>\n",
       "      <td>NaN</td>\n",
       "      <td>NaN</td>\n",
       "      <td>NaN</td>\n",
       "      <td>NaN</td>\n",
       "      <td>NaN</td>\n",
       "    </tr>\n",
       "    <tr>\n",
       "      <td>max</td>\n",
       "      <td>82506.000000</td>\n",
       "      <td>307.340000</td>\n",
       "      <td>75.932000</td>\n",
       "      <td>50.000000</td>\n",
       "      <td>34.444444</td>\n",
       "      <td>40.000000</td>\n",
       "      <td>86.360000</td>\n",
       "      <td>1.010001e+09</td>\n",
       "      <td>45.000000</td>\n",
       "      <td>12.000000</td>\n",
       "      <td>...</td>\n",
       "      <td>NaN</td>\n",
       "      <td>NaN</td>\n",
       "      <td>NaN</td>\n",
       "      <td>23.900000</td>\n",
       "      <td>1.010001e+09</td>\n",
       "      <td>NaN</td>\n",
       "      <td>NaN</td>\n",
       "      <td>NaN</td>\n",
       "      <td>NaN</td>\n",
       "      <td>NaN</td>\n",
       "    </tr>\n",
       "  </tbody>\n",
       "</table>\n",
       "<p>8 rows × 30 columns</p>\n",
       "</div>"
      ],
      "text/plain": [
       "                 STA         Precip  WindGustSpd        MaxTemp  \\\n",
       "count  119040.000000  102287.000000   532.000000  119040.000000   \n",
       "mean    29659.435795       3.753917    37.774534      27.045111   \n",
       "std     20953.209402      11.566633    10.297808       8.717817   \n",
       "min     10001.000000       0.000000    18.520000     -33.333333   \n",
       "25%     11801.000000       0.000000    29.632000      25.555556   \n",
       "50%     22508.000000       0.000000    37.040000      29.444444   \n",
       "75%     33501.000000       1.524000    43.059000      31.666667   \n",
       "max     82506.000000     307.340000    75.932000      50.000000   \n",
       "\n",
       "             MinTemp       MeanTemp       Snowfall   PoorWeather  \\\n",
       "count  119040.000000  119040.000000  117833.000000  3.355300e+04   \n",
       "mean       17.789511      22.411631       0.245544  4.027963e+06   \n",
       "std         8.334572       8.297982       2.626600  6.333825e+07   \n",
       "min       -38.333333     -35.555556       0.000000  0.000000e+00   \n",
       "25%        15.000000      20.555556       0.000000  1.000000e+00   \n",
       "50%        21.111111      25.555556       0.000000  1.000000e+00   \n",
       "75%        23.333333      27.222222       0.000000  1.000000e+00   \n",
       "max        34.444444      40.000000      86.360000  1.010001e+09   \n",
       "\n",
       "                  YR             MO  ...   FB  FTI  ITH         PGT  \\\n",
       "count  119040.000000  119040.000000  ...  0.0  0.0  0.0  525.000000   \n",
       "mean       43.805284       6.726016  ...  NaN  NaN  NaN   12.085333   \n",
       "std         1.136718       3.425561  ...  NaN  NaN  NaN    5.731328   \n",
       "min        40.000000       1.000000  ...  NaN  NaN  NaN    0.000000   \n",
       "25%        43.000000       4.000000  ...  NaN  NaN  NaN    8.500000   \n",
       "50%        44.000000       7.000000  ...  NaN  NaN  NaN   11.600000   \n",
       "75%        45.000000      10.000000  ...  NaN  NaN  NaN   15.000000   \n",
       "max        45.000000      12.000000  ...  NaN  NaN  NaN   23.900000   \n",
       "\n",
       "         TSHDSBRSGF  SD3  RHX  RHN  RVG  WTE  \n",
       "count  3.355300e+04  0.0  0.0  0.0  0.0  0.0  \n",
       "mean   4.027963e+06  NaN  NaN  NaN  NaN  NaN  \n",
       "std    6.333825e+07  NaN  NaN  NaN  NaN  NaN  \n",
       "min    0.000000e+00  NaN  NaN  NaN  NaN  NaN  \n",
       "25%    1.000000e+00  NaN  NaN  NaN  NaN  NaN  \n",
       "50%    1.000000e+00  NaN  NaN  NaN  NaN  NaN  \n",
       "75%    1.000000e+00  NaN  NaN  NaN  NaN  NaN  \n",
       "max    1.010001e+09  NaN  NaN  NaN  NaN  NaN  \n",
       "\n",
       "[8 rows x 30 columns]"
      ]
     },
     "execution_count": 9,
     "metadata": {},
     "output_type": "execute_result"
    }
   ],
   "source": [
    "df.describe()\n",
    "\n",
    "# Notare il max di PoorWeather. è sicuramente un valore non valido"
   ]
  },
  {
   "cell_type": "markdown",
   "metadata": {},
   "source": [
    "##### 3. Statistiche e dati d'interesse"
   ]
  },
  {
   "cell_type": "code",
   "execution_count": 10,
   "metadata": {
    "scrolled": false
   },
   "outputs": [
    {
     "data": {
      "text/plain": [
       "STA\n",
       "10701    31204\n",
       "22508    30784\n",
       "22502    29772\n",
       "22504    29226\n",
       "10803    25328\n",
       "11610    24129\n",
       "11601    24037\n",
       "10502    22773\n",
       "16405    22680\n",
       "32601    21851\n",
       "dtype: int64"
      ]
     },
     "execution_count": 10,
     "metadata": {},
     "output_type": "execute_result"
    }
   ],
   "source": [
    "# 10 sensori con più dati\n",
    "group = df.groupby('STA')\n",
    "best_stations = group.count().sum(axis=1).sort_values(ascending=False).head(10)\n",
    "best_stations"
   ]
  },
  {
   "cell_type": "code",
   "execution_count": 11,
   "metadata": {},
   "outputs": [
    {
     "data": {
      "text/html": [
       "<div>\n",
       "<style scoped>\n",
       "    .dataframe tbody tr th:only-of-type {\n",
       "        vertical-align: middle;\n",
       "    }\n",
       "\n",
       "    .dataframe tbody tr th {\n",
       "        vertical-align: top;\n",
       "    }\n",
       "\n",
       "    .dataframe thead th {\n",
       "        text-align: right;\n",
       "    }\n",
       "</style>\n",
       "<table border=\"1\" class=\"dataframe\">\n",
       "  <thead>\n",
       "    <tr style=\"text-align: right;\">\n",
       "      <th></th>\n",
       "      <th>Precip</th>\n",
       "      <th>WindGustSpd</th>\n",
       "      <th>MaxTemp</th>\n",
       "      <th>MinTemp</th>\n",
       "      <th>MeanTemp</th>\n",
       "      <th>Snowfall</th>\n",
       "      <th>PoorWeather</th>\n",
       "      <th>YR</th>\n",
       "      <th>MO</th>\n",
       "      <th>DA</th>\n",
       "      <th>...</th>\n",
       "      <th>FB</th>\n",
       "      <th>FTI</th>\n",
       "      <th>ITH</th>\n",
       "      <th>PGT</th>\n",
       "      <th>TSHDSBRSGF</th>\n",
       "      <th>SD3</th>\n",
       "      <th>RHX</th>\n",
       "      <th>RHN</th>\n",
       "      <th>RVG</th>\n",
       "      <th>WTE</th>\n",
       "    </tr>\n",
       "    <tr>\n",
       "      <th>STA</th>\n",
       "      <th></th>\n",
       "      <th></th>\n",
       "      <th></th>\n",
       "      <th></th>\n",
       "      <th></th>\n",
       "      <th></th>\n",
       "      <th></th>\n",
       "      <th></th>\n",
       "      <th></th>\n",
       "      <th></th>\n",
       "      <th></th>\n",
       "      <th></th>\n",
       "      <th></th>\n",
       "      <th></th>\n",
       "      <th></th>\n",
       "      <th></th>\n",
       "      <th></th>\n",
       "      <th></th>\n",
       "      <th></th>\n",
       "      <th></th>\n",
       "      <th></th>\n",
       "    </tr>\n",
       "  </thead>\n",
       "  <tbody>\n",
       "    <tr>\n",
       "      <td>10502</td>\n",
       "      <td>7.608138</td>\n",
       "      <td>NaN</td>\n",
       "      <td>30.877901</td>\n",
       "      <td>21.409445</td>\n",
       "      <td>26.138034</td>\n",
       "      <td>0.000000</td>\n",
       "      <td>1.000000e+00</td>\n",
       "      <td>43.309758</td>\n",
       "      <td>6.925344</td>\n",
       "      <td>15.768828</td>\n",
       "      <td>...</td>\n",
       "      <td>NaN</td>\n",
       "      <td>NaN</td>\n",
       "      <td>NaN</td>\n",
       "      <td>NaN</td>\n",
       "      <td>1.000000e+00</td>\n",
       "      <td>NaN</td>\n",
       "      <td>NaN</td>\n",
       "      <td>NaN</td>\n",
       "      <td>NaN</td>\n",
       "      <td>NaN</td>\n",
       "    </tr>\n",
       "    <tr>\n",
       "      <td>10701</td>\n",
       "      <td>6.086071</td>\n",
       "      <td>NaN</td>\n",
       "      <td>31.707094</td>\n",
       "      <td>23.189423</td>\n",
       "      <td>27.437325</td>\n",
       "      <td>0.000000</td>\n",
       "      <td>1.000000e+00</td>\n",
       "      <td>42.501144</td>\n",
       "      <td>6.509382</td>\n",
       "      <td>15.737300</td>\n",
       "      <td>...</td>\n",
       "      <td>NaN</td>\n",
       "      <td>NaN</td>\n",
       "      <td>NaN</td>\n",
       "      <td>NaN</td>\n",
       "      <td>1.000000e+00</td>\n",
       "      <td>NaN</td>\n",
       "      <td>NaN</td>\n",
       "      <td>NaN</td>\n",
       "      <td>NaN</td>\n",
       "      <td>NaN</td>\n",
       "    </tr>\n",
       "    <tr>\n",
       "      <td>10803</td>\n",
       "      <td>3.289317</td>\n",
       "      <td>NaN</td>\n",
       "      <td>31.074921</td>\n",
       "      <td>23.003810</td>\n",
       "      <td>27.046349</td>\n",
       "      <td>0.000000</td>\n",
       "      <td>1.000000e+00</td>\n",
       "      <td>43.066857</td>\n",
       "      <td>6.676571</td>\n",
       "      <td>15.780000</td>\n",
       "      <td>...</td>\n",
       "      <td>NaN</td>\n",
       "      <td>NaN</td>\n",
       "      <td>NaN</td>\n",
       "      <td>NaN</td>\n",
       "      <td>1.000000e+00</td>\n",
       "      <td>NaN</td>\n",
       "      <td>NaN</td>\n",
       "      <td>NaN</td>\n",
       "      <td>NaN</td>\n",
       "      <td>NaN</td>\n",
       "    </tr>\n",
       "    <tr>\n",
       "      <td>11601</td>\n",
       "      <td>5.318149</td>\n",
       "      <td>NaN</td>\n",
       "      <td>30.034982</td>\n",
       "      <td>24.296204</td>\n",
       "      <td>27.187587</td>\n",
       "      <td>0.000000</td>\n",
       "      <td>1.000000e+00</td>\n",
       "      <td>43.277431</td>\n",
       "      <td>6.845387</td>\n",
       "      <td>15.800499</td>\n",
       "      <td>...</td>\n",
       "      <td>NaN</td>\n",
       "      <td>NaN</td>\n",
       "      <td>NaN</td>\n",
       "      <td>NaN</td>\n",
       "      <td>1.000000e+00</td>\n",
       "      <td>NaN</td>\n",
       "      <td>NaN</td>\n",
       "      <td>NaN</td>\n",
       "      <td>NaN</td>\n",
       "      <td>NaN</td>\n",
       "    </tr>\n",
       "    <tr>\n",
       "      <td>11610</td>\n",
       "      <td>7.762408</td>\n",
       "      <td>NaN</td>\n",
       "      <td>30.102527</td>\n",
       "      <td>21.961646</td>\n",
       "      <td>26.023912</td>\n",
       "      <td>0.000000</td>\n",
       "      <td>1.000000e+00</td>\n",
       "      <td>43.239730</td>\n",
       "      <td>6.854077</td>\n",
       "      <td>15.812385</td>\n",
       "      <td>...</td>\n",
       "      <td>NaN</td>\n",
       "      <td>NaN</td>\n",
       "      <td>NaN</td>\n",
       "      <td>NaN</td>\n",
       "      <td>1.000000e+00</td>\n",
       "      <td>NaN</td>\n",
       "      <td>NaN</td>\n",
       "      <td>NaN</td>\n",
       "      <td>NaN</td>\n",
       "      <td>NaN</td>\n",
       "    </tr>\n",
       "    <tr>\n",
       "      <td>16405</td>\n",
       "      <td>2.615910</td>\n",
       "      <td>NaN</td>\n",
       "      <td>5.624401</td>\n",
       "      <td>-2.633237</td>\n",
       "      <td>1.499520</td>\n",
       "      <td>3.500043</td>\n",
       "      <td>1.000000e+00</td>\n",
       "      <td>43.252158</td>\n",
       "      <td>6.850801</td>\n",
       "      <td>15.789766</td>\n",
       "      <td>...</td>\n",
       "      <td>NaN</td>\n",
       "      <td>NaN</td>\n",
       "      <td>NaN</td>\n",
       "      <td>NaN</td>\n",
       "      <td>1.000000e+00</td>\n",
       "      <td>NaN</td>\n",
       "      <td>NaN</td>\n",
       "      <td>NaN</td>\n",
       "      <td>NaN</td>\n",
       "      <td>NaN</td>\n",
       "    </tr>\n",
       "    <tr>\n",
       "      <td>22502</td>\n",
       "      <td>1.829743</td>\n",
       "      <td>NaN</td>\n",
       "      <td>27.664552</td>\n",
       "      <td>19.176468</td>\n",
       "      <td>23.420510</td>\n",
       "      <td>0.000000</td>\n",
       "      <td>1.000000e+00</td>\n",
       "      <td>42.535747</td>\n",
       "      <td>6.593779</td>\n",
       "      <td>15.715877</td>\n",
       "      <td>...</td>\n",
       "      <td>NaN</td>\n",
       "      <td>NaN</td>\n",
       "      <td>NaN</td>\n",
       "      <td>NaN</td>\n",
       "      <td>1.000000e+00</td>\n",
       "      <td>NaN</td>\n",
       "      <td>NaN</td>\n",
       "      <td>NaN</td>\n",
       "      <td>NaN</td>\n",
       "      <td>NaN</td>\n",
       "    </tr>\n",
       "    <tr>\n",
       "      <td>22504</td>\n",
       "      <td>1.523676</td>\n",
       "      <td>NaN</td>\n",
       "      <td>28.205855</td>\n",
       "      <td>20.472668</td>\n",
       "      <td>24.341097</td>\n",
       "      <td>0.000000</td>\n",
       "      <td>1.000000e+00</td>\n",
       "      <td>42.516997</td>\n",
       "      <td>6.512748</td>\n",
       "      <td>15.699717</td>\n",
       "      <td>...</td>\n",
       "      <td>NaN</td>\n",
       "      <td>NaN</td>\n",
       "      <td>NaN</td>\n",
       "      <td>NaN</td>\n",
       "      <td>1.000000e+00</td>\n",
       "      <td>NaN</td>\n",
       "      <td>NaN</td>\n",
       "      <td>NaN</td>\n",
       "      <td>NaN</td>\n",
       "      <td>NaN</td>\n",
       "    </tr>\n",
       "    <tr>\n",
       "      <td>22508</td>\n",
       "      <td>2.968356</td>\n",
       "      <td>NaN</td>\n",
       "      <td>26.175233</td>\n",
       "      <td>18.411395</td>\n",
       "      <td>22.296229</td>\n",
       "      <td>0.000000</td>\n",
       "      <td>1.000000e+00</td>\n",
       "      <td>42.499544</td>\n",
       "      <td>6.521898</td>\n",
       "      <td>15.732664</td>\n",
       "      <td>...</td>\n",
       "      <td>NaN</td>\n",
       "      <td>NaN</td>\n",
       "      <td>NaN</td>\n",
       "      <td>NaN</td>\n",
       "      <td>1.000000e+00</td>\n",
       "      <td>NaN</td>\n",
       "      <td>NaN</td>\n",
       "      <td>NaN</td>\n",
       "      <td>NaN</td>\n",
       "      <td>NaN</td>\n",
       "    </tr>\n",
       "    <tr>\n",
       "      <td>32601</td>\n",
       "      <td>0.837065</td>\n",
       "      <td>NaN</td>\n",
       "      <td>31.542282</td>\n",
       "      <td>20.405293</td>\n",
       "      <td>26.057684</td>\n",
       "      <td>0.000000</td>\n",
       "      <td>6.623347e+06</td>\n",
       "      <td>43.646882</td>\n",
       "      <td>6.897070</td>\n",
       "      <td>15.824944</td>\n",
       "      <td>...</td>\n",
       "      <td>NaN</td>\n",
       "      <td>NaN</td>\n",
       "      <td>NaN</td>\n",
       "      <td>NaN</td>\n",
       "      <td>6.623347e+06</td>\n",
       "      <td>NaN</td>\n",
       "      <td>NaN</td>\n",
       "      <td>NaN</td>\n",
       "      <td>NaN</td>\n",
       "      <td>NaN</td>\n",
       "    </tr>\n",
       "  </tbody>\n",
       "</table>\n",
       "<p>10 rows × 29 columns</p>\n",
       "</div>"
      ],
      "text/plain": [
       "         Precip  WindGustSpd    MaxTemp    MinTemp   MeanTemp  Snowfall  \\\n",
       "STA                                                                       \n",
       "10502  7.608138          NaN  30.877901  21.409445  26.138034  0.000000   \n",
       "10701  6.086071          NaN  31.707094  23.189423  27.437325  0.000000   \n",
       "10803  3.289317          NaN  31.074921  23.003810  27.046349  0.000000   \n",
       "11601  5.318149          NaN  30.034982  24.296204  27.187587  0.000000   \n",
       "11610  7.762408          NaN  30.102527  21.961646  26.023912  0.000000   \n",
       "16405  2.615910          NaN   5.624401  -2.633237   1.499520  3.500043   \n",
       "22502  1.829743          NaN  27.664552  19.176468  23.420510  0.000000   \n",
       "22504  1.523676          NaN  28.205855  20.472668  24.341097  0.000000   \n",
       "22508  2.968356          NaN  26.175233  18.411395  22.296229  0.000000   \n",
       "32601  0.837065          NaN  31.542282  20.405293  26.057684  0.000000   \n",
       "\n",
       "        PoorWeather         YR        MO         DA  ...  FB  FTI  ITH  PGT  \\\n",
       "STA                                                  ...                      \n",
       "10502  1.000000e+00  43.309758  6.925344  15.768828  ... NaN  NaN  NaN  NaN   \n",
       "10701  1.000000e+00  42.501144  6.509382  15.737300  ... NaN  NaN  NaN  NaN   \n",
       "10803  1.000000e+00  43.066857  6.676571  15.780000  ... NaN  NaN  NaN  NaN   \n",
       "11601  1.000000e+00  43.277431  6.845387  15.800499  ... NaN  NaN  NaN  NaN   \n",
       "11610  1.000000e+00  43.239730  6.854077  15.812385  ... NaN  NaN  NaN  NaN   \n",
       "16405  1.000000e+00  43.252158  6.850801  15.789766  ... NaN  NaN  NaN  NaN   \n",
       "22502  1.000000e+00  42.535747  6.593779  15.715877  ... NaN  NaN  NaN  NaN   \n",
       "22504  1.000000e+00  42.516997  6.512748  15.699717  ... NaN  NaN  NaN  NaN   \n",
       "22508  1.000000e+00  42.499544  6.521898  15.732664  ... NaN  NaN  NaN  NaN   \n",
       "32601  6.623347e+06  43.646882  6.897070  15.824944  ... NaN  NaN  NaN  NaN   \n",
       "\n",
       "         TSHDSBRSGF  SD3  RHX  RHN  RVG  WTE  \n",
       "STA                                           \n",
       "10502  1.000000e+00  NaN  NaN  NaN  NaN  NaN  \n",
       "10701  1.000000e+00  NaN  NaN  NaN  NaN  NaN  \n",
       "10803  1.000000e+00  NaN  NaN  NaN  NaN  NaN  \n",
       "11601  1.000000e+00  NaN  NaN  NaN  NaN  NaN  \n",
       "11610  1.000000e+00  NaN  NaN  NaN  NaN  NaN  \n",
       "16405  1.000000e+00  NaN  NaN  NaN  NaN  NaN  \n",
       "22502  1.000000e+00  NaN  NaN  NaN  NaN  NaN  \n",
       "22504  1.000000e+00  NaN  NaN  NaN  NaN  NaN  \n",
       "22508  1.000000e+00  NaN  NaN  NaN  NaN  NaN  \n",
       "32601  6.623347e+06  NaN  NaN  NaN  NaN  NaN  \n",
       "\n",
       "[10 rows x 29 columns]"
      ]
     },
     "execution_count": 11,
     "metadata": {},
     "output_type": "execute_result"
    }
   ],
   "source": [
    "# Mean weather conditions for the top stations\n",
    "df[df['STA'].isin(best_stations.index)].groupby('STA').mean()\n",
    "\n",
    "# Si nota che le condizioni medie variano a seconda della stazione, \n",
    "# dunque è necessaria una normalizzazione se lavoriamo con più stazioni."
   ]
  },
  {
   "cell_type": "markdown",
   "metadata": {},
   "source": [
    "## Estrazione del dataset utilizzato"
   ]
  },
  {
   "cell_type": "code",
   "execution_count": 12,
   "metadata": {},
   "outputs": [],
   "source": [
    "ds = df[df['STA'] == 22508]\n",
    "ds = ds[['Date', 'MaxTemp', 'MinTemp', 'MeanTemp']]"
   ]
  },
  {
   "cell_type": "markdown",
   "metadata": {},
   "source": [
    "##### 1. Check dei tipi & missing values\n",
    "Verifico che il casting sia andato a buon fine e correggo eventuali errori e dati inconsistenti (es stringa in una colonna di float)."
   ]
  },
  {
   "cell_type": "code",
   "execution_count": 13,
   "metadata": {
    "scrolled": true
   },
   "outputs": [
    {
     "name": "stdout",
     "output_type": "stream",
     "text": [
      "<class 'pandas.core.frame.DataFrame'>\n",
      "Int64Index: 2192 entries, 57877 to 60068\n",
      "Data columns (total 4 columns):\n",
      "Date        2192 non-null datetime64[ns]\n",
      "MaxTemp     2192 non-null float64\n",
      "MinTemp     2192 non-null float64\n",
      "MeanTemp    2192 non-null float64\n",
      "dtypes: datetime64[ns](1), float64(3)\n",
      "memory usage: 85.6 KB\n"
     ]
    }
   ],
   "source": [
    "ds.info()"
   ]
  },
  {
   "cell_type": "markdown",
   "metadata": {},
   "source": [
    "##### 2. Check dei valori\n",
    "Verifico che ciascun campo d'interesse abbia un intervallo di valori valido, escludendo gli outliers."
   ]
  },
  {
   "cell_type": "code",
   "execution_count": 14,
   "metadata": {
    "scrolled": true
   },
   "outputs": [
    {
     "data": {
      "text/html": [
       "<div>\n",
       "<style scoped>\n",
       "    .dataframe tbody tr th:only-of-type {\n",
       "        vertical-align: middle;\n",
       "    }\n",
       "\n",
       "    .dataframe tbody tr th {\n",
       "        vertical-align: top;\n",
       "    }\n",
       "\n",
       "    .dataframe thead th {\n",
       "        text-align: right;\n",
       "    }\n",
       "</style>\n",
       "<table border=\"1\" class=\"dataframe\">\n",
       "  <thead>\n",
       "    <tr style=\"text-align: right;\">\n",
       "      <th></th>\n",
       "      <th>MaxTemp</th>\n",
       "      <th>MinTemp</th>\n",
       "      <th>MeanTemp</th>\n",
       "    </tr>\n",
       "  </thead>\n",
       "  <tbody>\n",
       "    <tr>\n",
       "      <td>count</td>\n",
       "      <td>2192.000000</td>\n",
       "      <td>2192.000000</td>\n",
       "      <td>2192.000000</td>\n",
       "    </tr>\n",
       "    <tr>\n",
       "      <td>mean</td>\n",
       "      <td>26.175233</td>\n",
       "      <td>18.411395</td>\n",
       "      <td>22.296229</td>\n",
       "    </tr>\n",
       "    <tr>\n",
       "      <td>std</td>\n",
       "      <td>2.094557</td>\n",
       "      <td>2.072139</td>\n",
       "      <td>1.799486</td>\n",
       "    </tr>\n",
       "    <tr>\n",
       "      <td>min</td>\n",
       "      <td>17.777778</td>\n",
       "      <td>11.666667</td>\n",
       "      <td>15.555556</td>\n",
       "    </tr>\n",
       "    <tr>\n",
       "      <td>25%</td>\n",
       "      <td>25.000000</td>\n",
       "      <td>17.222222</td>\n",
       "      <td>21.111111</td>\n",
       "    </tr>\n",
       "    <tr>\n",
       "      <td>50%</td>\n",
       "      <td>26.666667</td>\n",
       "      <td>18.888889</td>\n",
       "      <td>22.222222</td>\n",
       "    </tr>\n",
       "    <tr>\n",
       "      <td>75%</td>\n",
       "      <td>27.777778</td>\n",
       "      <td>20.000000</td>\n",
       "      <td>23.333333</td>\n",
       "    </tr>\n",
       "    <tr>\n",
       "      <td>max</td>\n",
       "      <td>31.666667</td>\n",
       "      <td>22.777778</td>\n",
       "      <td>26.111111</td>\n",
       "    </tr>\n",
       "  </tbody>\n",
       "</table>\n",
       "</div>"
      ],
      "text/plain": [
       "           MaxTemp      MinTemp     MeanTemp\n",
       "count  2192.000000  2192.000000  2192.000000\n",
       "mean     26.175233    18.411395    22.296229\n",
       "std       2.094557     2.072139     1.799486\n",
       "min      17.777778    11.666667    15.555556\n",
       "25%      25.000000    17.222222    21.111111\n",
       "50%      26.666667    18.888889    22.222222\n",
       "75%      27.777778    20.000000    23.333333\n",
       "max      31.666667    22.777778    26.111111"
      ]
     },
     "execution_count": 14,
     "metadata": {},
     "output_type": "execute_result"
    }
   ],
   "source": [
    "# Verifico che le temperature siano in un range di valori sensato\n",
    "ds.describe()"
   ]
  },
  {
   "cell_type": "markdown",
   "metadata": {},
   "source": [
    "##### 3. Statistiche e dati d'interesse"
   ]
  },
  {
   "cell_type": "markdown",
   "metadata": {},
   "source": [
    "##### Mean Temp"
   ]
  },
  {
   "cell_type": "code",
   "execution_count": 15,
   "metadata": {},
   "outputs": [],
   "source": [
    "mean_temp = ds['MeanTemp'].values\n",
    "date = ds['Date'].values"
   ]
  },
  {
   "cell_type": "code",
   "execution_count": 17,
   "metadata": {},
   "outputs": [
    {
     "data": {
      "text/plain": [
       "[<matplotlib.lines.Line2D at 0x1ee35f7fb08>]"
      ]
     },
     "execution_count": 17,
     "metadata": {},
     "output_type": "execute_result"
    },
    {
     "data": {
      "image/png": "[encoded data removed]",
      "text/plain": [
       "<Figure size 936x288 with 1 Axes>"
      ]
     },
     "metadata": {
      "needs_background": "light"
     },
     "output_type": "display_data"
    }
   ],
   "source": [
    "import matplotlib.pyplot as plt\n",
    "fig, ax = plt.subplots(figsize=(13,4))\n",
    "ax.plot(date,mean_temp)"
   ]
  },
  {
   "cell_type": "markdown",
   "metadata": {},
   "source": [
    "## Preprocessing\n",
    "\n",
    "### UPDATE: *ho capito male l'esercizio e ho fatto un'altra cosa. Anche se inutile per questo esercizio, quello che c'è sotto è un abbozzo sensato di un approccio a un problema di regressione. L'unico difetto è lo scheletro delle regressioni che dev'essere fatto con una pipeline se voglio normalizzare!*.\n",
    "\n",
    "##### Vai sotto fino al Preprocessing 3\n",
    "\n",
    "---\n",
    "\n",
    "Il tipo datetime non può essere usato negli algoritmi di regressione, pertanto dev'essere convertito in un formato valido.\n",
    "\n",
    "---\n",
    "---\n",
    "The best way is to explode the date into a set of categorical features encoded in boolean form using the 1-of-K encoding (e.g. as done by DictVectorizer). Here are some features that can be extracted from a date:\n",
    "\n",
    "    hour of the day (24 boolean features)\n",
    "    day of the week (7 boolean features)\n",
    "    day of the month (up to 31 boolean features)\n",
    "    month of the year (12 boolean features)\n",
    "    year (as many boolean features as they are different years in your dataset) ...\n",
    "\n",
    "That should make it possible to identify linear dependencies on periodic events on typical human life cycles.\n",
    "\n",
    "Additionally you can also extract the date a single float: convert each date as the number of days since the min date of your training set and divide by the difference of the number of days between the max date and the number of days of the min date. That numerical feature should make it possible to identify long term trends between the output of the event date: e.g. a linear slope in a regression problem to better predict evolution on forth-coming years that cannot be encoded with the boolean categorical variable for the year feature.\n",
    "\n",
    "---\n",
    "\n",
    "You have two options. You can convert the date to an ordinal i.e. an integer representing the number of days since year 1 day 1. You can do this by a datetime.date's toordinal function.\n",
    "\n",
    "Alternatively, you can turn the dates into categorical variables using sklearn's OneHotEncoder. What it does is create a new variable for each distinct date. So instead of something like column date with values ['2013-04-01', '2013-05-01'], you will have two columns, date_2013_04_01 with values [1, 0] and date_2013_05_01 with values [0, 1].\n",
    "\n",
    "I would recommend using the toordinal approach if you have many different dates, and the one hot encoder if the number of distinct dates is small (let's say up to 10 - 100, depending on the size of your data and what sort of relation the date has with the output variable).\n",
    "\n",
    "\n",
    "Fonte: https://stackoverflow.com/questions/16453644/regression-with-date-variable-using-scikit-learn\n",
    "\n",
    "---\n",
    "---\n",
    "\n",
    "In questo caso preferisco l'approccio della trasformazione di una data nella differenza in giorni dalla prima:\n",
    "- Mi interessa un long-term trend.\n",
    "- Ho un gran numero di date che farebbe aumentare di molto le dimensioni del dataset\n",
    "\n",
    "Questo preproc diventa necessario qualora avessi delle date mancanti nel dataset"
   ]
  },
  {
   "cell_type": "code",
   "execution_count": 19,
   "metadata": {},
   "outputs": [
    {
     "data": {
      "text/plain": [
       "31.0"
      ]
     },
     "execution_count": 19,
     "metadata": {},
     "output_type": "execute_result"
    }
   ],
   "source": [
    "(np.datetime64('2020-02-01') - np.datetime64('2020-01-01')) / np.timedelta64(1, 'D')"
   ]
  },
  {
   "cell_type": "code",
   "execution_count": 20,
   "metadata": {},
   "outputs": [
    {
     "data": {
      "text/plain": [
       "8212.0"
      ]
     },
     "execution_count": 20,
     "metadata": {},
     "output_type": "execute_result"
    }
   ],
   "source": [
    "(np.datetime64('today') - np.datetime64('1997-07-17')) / np.timedelta64(1, 'D')"
   ]
  },
  {
   "cell_type": "code",
   "execution_count": 21,
   "metadata": {},
   "outputs": [],
   "source": [
    "# Preproc \n",
    "time = np.array([(date[i]-date[0])/np.timedelta64(1, 'D') for i in range(date.size)])"
   ]
  },
  {
   "cell_type": "code",
   "execution_count": 22,
   "metadata": {},
   "outputs": [
    {
     "data": {
      "text/plain": [
       "[<matplotlib.lines.Line2D at 0x18580e40f48>]"
      ]
     },
     "execution_count": 22,
     "metadata": {},
     "output_type": "execute_result"
    },
    {
     "data": {
      "image/png": "[encoded data removed]",
      "text/plain": [
       "<Figure size 936x288 with 1 Axes>"
      ]
     },
     "metadata": {
      "needs_background": "light"
     },
     "output_type": "display_data"
    }
   ],
   "source": [
    "fig, ax = plt.subplots(figsize=(13,4))\n",
    "ax.plot(time,mean_temp)"
   ]
  },
  {
   "cell_type": "markdown",
   "metadata": {},
   "source": [
    "## Classic k-fold Cross Validation Does Not Work For Time Series Data\n",
    "\n",
    "The goal of time series forecasting is to make accurate predictions about the future.\n",
    "\n",
    "The fast and powerful methods that we rely on in machine learning, such as using train-test splits and k-fold cross validation, do not work in the case of time series data. This is because they ignore the temporal components inherent in the problem.\n",
    "\n",
    "### k-fold cross validation with `TimeSeriesSplit` of sklearn\n",
    "param: `n_splits`  \n",
    "\n",
    "**Test set size (const.) =** `n_samples // (n_splits + 1)`  (importante)  \n",
    "**Train set size =** `i * n_samples // (n_splits + 1) + n_samples % (n_splits + 1)`  \n",
    "A ogni iterazione il **train set** aumenta di un numero di elementi pari alla lunghezza del **test set**.\n",
    "\n",
    "`n_samples` è la lunghezza della time serie.  \n",
    "\n",
    "vedi: https://scikit-learn.org/stable/modules/cross_validation.html#time-series-split"
   ]
  },
  {
   "cell_type": "code",
   "execution_count": 22,
   "metadata": {},
   "outputs": [
    {
     "name": "stdout",
     "output_type": "stream",
     "text": [
      "TRAIN indices: [0]; TEST indices: [1]\n",
      "TRAIN indices: [0 1]; TEST indices: [2]\n",
      "TRAIN indices: [0 1 2]; TEST indices: [3]\n"
     ]
    }
   ],
   "source": [
    "from sklearn.model_selection import TimeSeriesSplit\n",
    "\n",
    "x = np.array([\n",
    "    [0, 1],\n",
    "    [2, 3],\n",
    "    [4, 5],\n",
    "    [6, 7]\n",
    "])\n",
    "\n",
    "#x.shape[0] = 4\n",
    "#n_splits=x.shape[0]-1 --> test set sempre di 1\n",
    "ts = TimeSeriesSplit(n_splits=x.shape[0]-1)\n",
    "\n",
    "for train_ids, test_ids in ts.split(x):\n",
    "    print(f'TRAIN indices: {train_ids}; TEST indices: {test_ids}')"
   ]
  },
  {
   "cell_type": "markdown",
   "metadata": {},
   "source": [
    "## Train (validation + train) - test split"
   ]
  },
  {
   "cell_type": "code",
   "execution_count": 113,
   "metadata": {},
   "outputs": [],
   "source": [
    "split_date = '1945'\n",
    "x_train, x_test = time[date <= np.datetime64(split_date)], time[date > np.datetime64(split_date)]\n",
    "y_train, y_test = mean_temp[date <= np.datetime64(split_date)], mean_temp[date > np.datetime64(split_date)]\n",
    "\n",
    "x_train, x_test = x_train.reshape(-1,1), x_test.reshape(-1,1)"
   ]
  },
  {
   "cell_type": "code",
   "execution_count": 114,
   "metadata": {},
   "outputs": [
    {
     "data": {
      "image/png": "[encoded data removed]",
      "text/plain": [
       "<Figure size 1008x288 with 1 Axes>"
      ]
     },
     "metadata": {
      "needs_background": "light"
     },
     "output_type": "display_data"
    }
   ],
   "source": [
    "fig, ax = plt.subplots(figsize=(14,4))\n",
    "ax.plot(x_train[:,0], y_train)\n",
    "ax.plot(x_test[:,0],y_test)\n",
    "plt.plot();"
   ]
  },
  {
   "cell_type": "markdown",
   "metadata": {},
   "source": [
    "## Definizione dei k-fold della cross validation\n",
    "`n_splits` è settato in modo tale da avere sempre il test set di dimensione 1.  \n",
    "\n",
    "**Attenzione!** in questo modo non posso più usare lo scoring `r2` perchè ha bisogno di almeno 2 elementi nel test set!  \n",
    "Devo usare ad esempio: `neg_mean_absolute_error`, `neg_mean_squared_error`"
   ]
  },
  {
   "cell_type": "code",
   "execution_count": 118,
   "metadata": {},
   "outputs": [],
   "source": [
    "# Cross validation folds\n",
    "tss = TimeSeriesSplit(n_splits=x_train.shape[0]-1)"
   ]
  },
  {
   "cell_type": "markdown",
   "metadata": {},
   "source": [
    "## Regression"
   ]
  },
  {
   "cell_type": "code",
   "execution_count": 119,
   "metadata": {},
   "outputs": [
    {
     "data": {
      "text/plain": [
       "array([-0.30864198, -1.23456792, -1.68038409, ..., -5.60508374,\n",
       "       -5.581134  , -5.5572811 ])"
      ]
     },
     "execution_count": 119,
     "metadata": {},
     "output_type": "execute_result"
    }
   ],
   "source": [
    "from sklearn.model_selection import cross_val_score\n",
    "\n",
    "# Test preventivo\n",
    "cross_val_score(lreg, x_train, y_train, cv=tss, scoring='neg_mean_squared_error', )"
   ]
  },
  {
   "cell_type": "code",
   "execution_count": 120,
   "metadata": {},
   "outputs": [
    {
     "name": "stdout",
     "output_type": "stream",
     "text": [
      "-3.4354856647690473\n",
      "{'fit_intercept': True}\n",
      "\n",
      "Linear regression:\n",
      "R2: -0.00\n",
      "R2 adjusted: -0.00\n",
      "MAE: 1.32\n",
      "MSE: 2.35\n",
      "\n"
     ]
    }
   ],
   "source": [
    "from sklearn.linear_model import LinearRegression\n",
    "from sklearn.model_selection import GridSearchCV\n",
    "# Linear regression\n",
    "lreg = LinearRegression()\n",
    "param_grid = {\n",
    "    'fit_intercept': [True, False]\n",
    "}\n",
    "\n",
    "# Gridsearch\n",
    "gs = GridSearchCV(lreg, param_grid, cv=tss, scoring='neg_mean_squared_error', n_jobs=-1, iid=True)\n",
    "gs.fit(x_train, y_train)\n",
    "print(gs.best_score_)\n",
    "print(gs.best_params_)\n",
    "print()\n",
    "\n",
    "#Best model\n",
    "est = gs.best_estimator_\n",
    "est.fit(x_train, y_train)\n",
    "y_p = est.predict(x_test)\n",
    "\n",
    "print('Linear regression:')\n",
    "print(my_regression_report(y_test,y_p,x_train))\n",
    "print()"
   ]
  },
  {
   "cell_type": "code",
   "execution_count": 121,
   "metadata": {},
   "outputs": [
    {
     "name": "stdout",
     "output_type": "stream",
     "text": [
      "{'linearregression__fit_intercept': True, 'polynomialfeatures__degree': 0}\n",
      "\n",
      "Polynomial regression:\n",
      "R2: -0.03\n",
      "R2 adjusted: -0.03\n",
      "MAE: 1.33\n",
      "MSE: 2.41\n",
      "\n"
     ]
    }
   ],
   "source": [
    "# Polinomial regression + cross validation\n",
    "from sklearn.preprocessing import PolynomialFeatures\n",
    "from sklearn.pipeline import make_pipeline\n",
    "\n",
    "# Pipeline\n",
    "reg_pipeline = make_pipeline(PolynomialFeatures(), LinearRegression())\n",
    "\n",
    "# Parameters grid\n",
    "param_grid = {\n",
    "    'polynomialfeatures__degree': range(3),\n",
    "    'linearregression__fit_intercept': [True, False]\n",
    "}\n",
    "\n",
    "# Gridsearch\n",
    "gs = GridSearchCV(reg_pipeline, param_grid, scoring='neg_mean_squared_error', cv=tss, n_jobs=-1, iid=True)\n",
    "gs.fit(x_train, y_train)\n",
    "print(gs.best_params_)\n",
    "print()\n",
    "\n",
    "# Best estimator\n",
    "est = gs.best_estimator_\n",
    "est.fit(x_train, y_train)\n",
    "y_p = est.predict(x_test)\n",
    "\n",
    "print('Polynomial regression:')\n",
    "print(my_regression_report(y_test,y_p,x_train))\n",
    "print()"
   ]
  },
  {
   "cell_type": "code",
   "execution_count": 122,
   "metadata": {},
   "outputs": [
    {
     "name": "stdout",
     "output_type": "stream",
     "text": [
      "{'polynomialfeatures__degree': 0, 'ridge__alpha': 0.1, 'ridge__fit_intercept': True}\n",
      "\n",
      "Ridge regression:\n",
      "R2: -0.03\n",
      "R2 adjusted: -0.03\n",
      "MAE: 1.33\n",
      "MSE: 2.41\n",
      "\n"
     ]
    }
   ],
   "source": [
    "from sklearn.linear_model import Ridge\n",
    "# Ridge regression\n",
    "# Pipeline\n",
    "reg_pipeline = make_pipeline(PolynomialFeatures(), Ridge())\n",
    "\n",
    "# Parameters grid\n",
    "param_grid = {\n",
    "    'polynomialfeatures__degree': range(3),\n",
    "    'ridge__alpha': [0.1, 0.2, 0.5, 1, 10],\n",
    "    'ridge__fit_intercept': [True, False]\n",
    "\n",
    "}\n",
    "\n",
    "# Gridsearch\n",
    "gs = GridSearchCV(reg_pipeline, param_grid, scoring='neg_mean_squared_error', cv=tss, n_jobs=-1, iid=True)\n",
    "gs.fit(x_train, y_train)\n",
    "print(gs.best_params_)\n",
    "print()\n",
    "\n",
    "# Best estimator\n",
    "est = gs.best_estimator_\n",
    "est.fit(x_train, y_train)\n",
    "y_p = est.predict(x_test)\n",
    "\n",
    "print('Ridge regression:')\n",
    "print(my_regression_report(y_test,y_p,x_train))\n",
    "print()"
   ]
  },
  {
   "cell_type": "code",
   "execution_count": 123,
   "metadata": {},
   "outputs": [
    {
     "name": "stdout",
     "output_type": "stream",
     "text": [
      "10.0\n",
      "\n",
      "RidgeCV regression:\n",
      "R2: -0.00\n",
      "R2 adjusted: -0.01\n",
      "MAE: 1.32\n",
      "MSE: 2.35\n",
      "\n"
     ]
    }
   ],
   "source": [
    "from sklearn.linear_model import RidgeCV\n",
    "# Nota: non ha senso fare la cross validation di ridgeCV perchè sarebbe come farla 2 volte\n",
    "ridgecv = RidgeCV(cv=tss, scoring='neg_mean_squared_error')\n",
    "ridgecv.fit(x_train,y_train)\n",
    "y_p = ridgecv.predict(x_test)\n",
    "\n",
    "print(ridgecv.alpha_)\n",
    "print()\n",
    "print('RidgeCV regression:')\n",
    "print(my_regression_report(y_test,y_p,x_train))\n",
    "print()"
   ]
  },
  {
   "cell_type": "code",
   "execution_count": 124,
   "metadata": {},
   "outputs": [
    {
     "name": "stdout",
     "output_type": "stream",
     "text": [
      "{'lasso__alpha': 0.1, 'lasso__fit_intercept': True, 'polynomialfeatures__degree': 0}\n",
      "\n",
      "Lasso regression:\n",
      "R2: -0.03\n",
      "R2 adjusted: -0.03\n",
      "MAE: 1.33\n",
      "MSE: 2.41\n",
      "\n"
     ]
    }
   ],
   "source": [
    "from sklearn.linear_model import Lasso\n",
    "# Lasso regression\n",
    "# Pipeline\n",
    "reg_pipeline = make_pipeline(PolynomialFeatures(), Lasso())\n",
    "\n",
    "# Parameters grid\n",
    "param_grid = {\n",
    "    'polynomialfeatures__degree': range(3),\n",
    "    'lasso__alpha': [0.1, 0.2, 0.5, 1, 10],\n",
    "    'lasso__fit_intercept': [True, False]\n",
    "\n",
    "}\n",
    "\n",
    "# Gridsearch\n",
    "gs = GridSearchCV(reg_pipeline, param_grid, scoring='neg_mean_squared_error', cv=tss, n_jobs=-1, iid=True)\n",
    "gs.fit(x_train, y_train)\n",
    "print(gs.best_params_)\n",
    "print()\n",
    "\n",
    "# Best estimator\n",
    "est = gs.best_estimator_\n",
    "est.fit(x_train, y_train)\n",
    "y_p = est.predict(x_test)\n",
    "\n",
    "print('Lasso regression:')\n",
    "print(my_regression_report(y_test,y_p,x_train))\n",
    "print()"
   ]
  },
  {
   "cell_type": "markdown",
   "metadata": {},
   "source": [
    "## Other regressors"
   ]
  },
  {
   "cell_type": "markdown",
   "metadata": {},
   "source": [
    "## Definizione dei k-fold della cross validation\n",
    "`n_splits` è settato in modo tale da avere k-fold più grandi:."
   ]
  },
  {
   "cell_type": "code",
   "execution_count": 92,
   "metadata": {},
   "outputs": [],
   "source": [
    "# Cross validation folds\n",
    "tss = TimeSeriesSplit(n_splits=5)"
   ]
  },
  {
   "cell_type": "code",
   "execution_count": 94,
   "metadata": {},
   "outputs": [
    {
     "name": "stdout",
     "output_type": "stream",
     "text": [
      "{'activation': 'tanh', 'learning_rate': 'constant', 'solver': 'adam'}\n",
      "\n",
      "Multi-layer Perceptron regressor:\n",
      "R2: -0.03\n",
      "R2 adjusted: -0.03\n",
      "MAE: 1.33\n",
      "MSE: 2.42\n",
      "\n"
     ]
    }
   ],
   "source": [
    "from sklearn.neural_network import MLPRegressor\n",
    "# MLPR (neural net)\n",
    "reg = MLPRegressor(random_state=17, max_iter=100000)\n",
    "# Parameters grid\n",
    "param_grid = {\n",
    "    'activation': ['identity', 'logistic', 'tanh', 'relu'],\n",
    "    'solver': ['lbfgs', 'sgd', 'adam'],\n",
    "    'learning_rate': ['constant', 'invscaling', 'adaptive']\n",
    "}\n",
    "\n",
    "# Gridsearch\n",
    "gs = GridSearchCV(reg, param_grid, scoring='neg_mean_squared_error', cv=tss, n_jobs=-1, iid=True)\n",
    "gs.fit(x_train, y_train)\n",
    "print(gs.best_params_)\n",
    "print()\n",
    "\n",
    "# Best estimator\n",
    "est = gs.best_estimator_\n",
    "est.fit(x_train, y_train)\n",
    "y_p = est.predict(x_test)\n",
    "\n",
    "print('Multi-layer Perceptron regressor:')\n",
    "print(my_regression_report(y_test,y_p,x_train))\n",
    "print()"
   ]
  },
  {
   "cell_type": "code",
   "execution_count": 103,
   "metadata": {},
   "outputs": [
    {
     "name": "stdout",
     "output_type": "stream",
     "text": [
      "{'C': 1, 'epsilon': 0.3, 'kernel': 'poly', 'shrinking': True}\n",
      "\n",
      "Epsilon-Support Vector Regression:\n",
      "R2: -0.00\n",
      "R2 adjusted: -0.00\n",
      "MAE: 1.31\n",
      "MSE: 2.34\n",
      "\n"
     ]
    }
   ],
   "source": [
    "from sklearn.svm import SVR\n",
    "# SVR\n",
    "reg = SVR(gamma='auto')\n",
    "# Parameters grid\n",
    "param_grid = {\n",
    "    'kernel': ['rbf', 'linear', 'poly', 'sigmoid'],\n",
    "    'C': [0.5, 1, 3, 5, 7, 9],\n",
    "    'shrinking':[True, False],\n",
    "    'epsilon':[0.1,0.3,0.5,0.7]\n",
    "}\n",
    "\n",
    "# Gridsearch\n",
    "gs = GridSearchCV(reg, param_grid, scoring='neg_mean_squared_error', cv=tss, n_jobs=-1, iid=True)\n",
    "gs.fit(x_train, y_train)\n",
    "print(gs.best_params_)\n",
    "print()\n",
    "\n",
    "# Best estimator\n",
    "est = gs.best_estimator_\n",
    "est.fit(x_train, y_train)\n",
    "y_p = est.predict(x_test)\n",
    "\n",
    "print('Epsilon-Support Vector Regression:')\n",
    "print(my_regression_report(y_test,y_p,x_train))\n",
    "print()"
   ]
  },
  {
   "cell_type": "code",
   "execution_count": 104,
   "metadata": {},
   "outputs": [
    {
     "name": "stdout",
     "output_type": "stream",
     "text": [
      "{'criterion': 'mse', 'min_samples_leaf': 1, 'min_samples_split': 6}\n",
      "\n",
      "RandomForest Regression:\n",
      "R2: -2.06\n",
      "R2 adjusted: -2.06\n",
      "MAE: 2.31\n",
      "MSE: 7.16\n",
      "\n"
     ]
    }
   ],
   "source": [
    "from sklearn.ensemble import RandomForestRegressor\n",
    "# Random forest\n",
    "reg = RandomForestRegressor(n_estimators=100, random_state=17)\n",
    "# Parameters grid\n",
    "param_grid = {\n",
    "    'criterion': ['mse'],\n",
    "    'min_samples_split': [2, 4, 6],\n",
    "    'min_samples_leaf': [1, 4, 8]\n",
    "}\n",
    "\n",
    "# Gridsearch\n",
    "gs = GridSearchCV(reg, param_grid, scoring='neg_mean_squared_error', cv=tss, n_jobs=-1, iid=True)\n",
    "gs.fit(x_train, y_train)\n",
    "print(gs.best_params_)\n",
    "print()\n",
    "\n",
    "# Best estimator\n",
    "est = RandomForestRegressor(n_estimators=500, random_state=17, **gs.best_params_)\n",
    "est.fit(x_train, y_train)\n",
    "y_p = est.predict(x_test)\n",
    "\n",
    "print('RandomForest Regression:')\n",
    "print(my_regression_report(y_test,y_p,x_train))\n",
    "print()"
   ]
  },
  {
   "cell_type": "markdown",
   "metadata": {},
   "source": [
    "## Preprocessing 2\n",
    "Il tipo datetime non può essere usato negli algoritmi di regressione, pertanto dev'essere convertito in un formato valido.\n",
    "\n",
    "---\n",
    "---\n",
    "The best way is to explode the date into a set of categorical features encoded in boolean form using the 1-of-K encoding (e.g. as done by DictVectorizer). Here are some features that can be extracted from a date:\n",
    "\n",
    "    hour of the day (24 boolean features)\n",
    "    day of the week (7 boolean features)\n",
    "    day of the month (up to 31 boolean features)\n",
    "    month of the year (12 boolean features)\n",
    "    year (as many boolean features as they are different years in your dataset) ...\n",
    "\n",
    "That should make it possible to identify linear dependencies on periodic events on typical human life cycles.\n",
    "\n",
    "Additionally you can also extract the date a single float: convert each date as the number of days since the min date of your training set and divide by the difference of the number of days between the max date and the number of days of the min date. That numerical feature should make it possible to identify long term trends between the output of the event date: e.g. a linear slope in a regression problem to better predict evolution on forth-coming years that cannot be encoded with the boolean categorical variable for the year feature.\n",
    "\n",
    "---\n",
    "\n",
    "You have two options. You can convert the date to an ordinal i.e. an integer representing the number of days since year 1 day 1. You can do this by a datetime.date's toordinal function.\n",
    "\n",
    "Alternatively, you can turn the dates into categorical variables using sklearn's OneHotEncoder. What it does is create a new variable for each distinct date. So instead of something like column date with values ['2013-04-01', '2013-05-01'], you will have two columns, date_2013_04_01 with values [1, 0] and date_2013_05_01 with values [0, 1].\n",
    "\n",
    "I would recommend using the toordinal approach if you have many different dates, and the one hot encoder if the number of distinct dates is small (let's say up to 10 - 100, depending on the size of your data and what sort of relation the date has with the output variable).\n",
    "\n",
    "\n",
    "Fonte: https://stackoverflow.com/questions/16453644/regression-with-date-variable-using-scikit-learn\n",
    "\n",
    "---\n",
    "---\n",
    "\n",
    "Siccome l'approccio della trasformazione di una data nella differenza in giorni dalla prima non sembra funzioanre, uso una via di mezzo. Nonn posso Trasformare le features con One-Hot encoding siccome la dimensione del ds esploderebbe: 2^n_date, dove n_date circa= 2000.\n",
    "##### -> Divido anche anno, mese, giorno"
   ]
  },
  {
   "cell_type": "code",
   "execution_count": 33,
   "metadata": {},
   "outputs": [],
   "source": [
    "# enlapsaed days \n",
    "time = np.array([(date[i]-date[0])/np.timedelta64(1, 'D') for i in range(date.size)])\n",
    "\n",
    "# estraction of info from dates\n",
    "years = pd.to_datetime(date).year\n",
    "months = pd.to_datetime(date).month\n",
    "days = pd.to_datetime(date).day"
   ]
  },
  {
   "cell_type": "code",
   "execution_count": 34,
   "metadata": {},
   "outputs": [],
   "source": [
    "X = np.stack([time, years, months, days], axis=1)"
   ]
  },
  {
   "cell_type": "code",
   "execution_count": 35,
   "metadata": {},
   "outputs": [
    {
     "data": {
      "text/plain": [
       "(2192, 4)"
      ]
     },
     "execution_count": 35,
     "metadata": {},
     "output_type": "execute_result"
    }
   ],
   "source": [
    "X.shape"
   ]
  },
  {
   "cell_type": "markdown",
   "metadata": {},
   "source": [
    "## Train (validation + train) - test split"
   ]
  },
  {
   "cell_type": "code",
   "execution_count": 68,
   "metadata": {},
   "outputs": [],
   "source": [
    "split_date = '1945'\n",
    "x_train, x_test = X[date <= np.datetime64(split_date)], X[date > np.datetime64(split_date)]\n",
    "y_train, y_test = mean_temp[date <= np.datetime64(split_date)], mean_temp[date > np.datetime64(split_date)]"
   ]
  },
  {
   "cell_type": "code",
   "execution_count": 69,
   "metadata": {},
   "outputs": [
    {
     "data": {
      "image/png": "[encoded data removed]",
      "text/plain": [
       "<Figure size 1008x288 with 1 Axes>"
      ]
     },
     "metadata": {
      "needs_background": "light"
     },
     "output_type": "display_data"
    }
   ],
   "source": [
    "fig, ax = plt.subplots(figsize=(14,4))\n",
    "ax.plot(x_train[:,0], y_train)\n",
    "ax.plot(x_test[:,0],y_test)\n",
    "plt.plot();"
   ]
  },
  {
   "cell_type": "markdown",
   "metadata": {},
   "source": [
    "## Termini trigonometrici\n",
    "Visto che gli estimators non hanno buone performances, provo a introdurre un termine trigonometrico"
   ]
  },
  {
   "cell_type": "raw",
   "metadata": {},
   "source": [
    "# Esempio\n",
    "fig, ax = plt.subplots(figsize=(14,4))\n",
    "ax.plot(x_train[:,0], y_train)\n",
    "ax.plot(x_test[:,0],y_test)\n",
    "ax.plot(x_train[:,0], np.sin(x_train[:,0]*0.019)*2+ np.average(y_train))\n",
    "plt.plot();"
   ]
  },
  {
   "cell_type": "raw",
   "metadata": {},
   "source": [
    "x_train.shape"
   ]
  },
  {
   "cell_type": "raw",
   "metadata": {},
   "source": [
    "for i in range(10,21):\n",
    "    x_train = np.hstack((x_train,np.sin(x_train[:,0] * 0.01 * i).reshape(-1,1)))\n",
    "    x_test = np.hstack((x_test,np.sin(x_test[:,0] * 0.01 * i).reshape(-1,1)))"
   ]
  },
  {
   "cell_type": "raw",
   "metadata": {},
   "source": [
    "x_train.shape"
   ]
  },
  {
   "cell_type": "markdown",
   "metadata": {},
   "source": [
    "## Definizione dei k-fold della cross validation\n",
    "`n_splits` è settato in modo tale da avere sempre il test set di dimensione 1.  \n",
    "\n",
    "**Attenzione!** in questo modo non posso più usare lo scoring `r2` perchè ha bisogno di almeno 2 elementi nel test set!  \n",
    "Devo usare ad esempio: `neg_mean_absolute_error`, `neg_mean_squared_error`"
   ]
  },
  {
   "cell_type": "code",
   "execution_count": 61,
   "metadata": {},
   "outputs": [],
   "source": [
    "from sklearn.model_selection import TimeSeriesSplit\n",
    "# Cross validation folds\n",
    "tss = TimeSeriesSplit(n_splits=x_train.shape[0]-1)"
   ]
  },
  {
   "cell_type": "markdown",
   "metadata": {},
   "source": [
    "## Regression"
   ]
  },
  {
   "cell_type": "code",
   "execution_count": 64,
   "metadata": {},
   "outputs": [],
   "source": [
    "from sklearn.linear_model import LinearRegression, Ridge, Lasso\n",
    "from sklearn.model_selection import GridSearchCV\n",
    "from sklearn.preprocessing import MinMaxScaler, StandardScaler\n",
    "from sklearn.pipeline import make_pipeline, Pipeline"
   ]
  },
  {
   "cell_type": "code",
   "execution_count": 65,
   "metadata": {},
   "outputs": [
    {
     "name": "stdout",
     "output_type": "stream",
     "text": [
      "-84.06761428155677\n",
      "{'reg__fit_intercept': True}\n",
      "\n",
      "Linear regression:\n",
      "R2: 0.00\n",
      "R2 adjusted: -0.00\n",
      "MAE: 0.07\n",
      "MSE: 0.00\n",
      "\n"
     ]
    }
   ],
   "source": [
    "# Linear regression\n",
    "\n",
    "# Pipeline\n",
    "steps = [\n",
    "    ('norm', StandardScaler()),\n",
    "    ('reg', LinearRegression())\n",
    "]\n",
    "lreg = Pipeline(steps)\n",
    "\n",
    "param_grid = {\n",
    "    'reg__fit_intercept': [True, False]\n",
    "}\n",
    "\n",
    "# Gridsearch\n",
    "gs = GridSearchCV(lreg, param_grid, cv=tss, scoring='neg_mean_squared_error', refit=True, n_jobs=-1, iid=True)\n",
    "gs.fit(x_train, y_train)\n",
    "print(gs.best_score_)\n",
    "print(gs.best_params_)\n",
    "print()\n",
    "\n",
    "#Best model\n",
    "y_p = gs.predict(x_test)\n",
    "\n",
    "print('Linear regression:')\n",
    "print(my_regression_report(y_test,y_p,x_train))\n",
    "print()"
   ]
  },
  {
   "cell_type": "code",
   "execution_count": 226,
   "metadata": {},
   "outputs": [
    {
     "name": "stdout",
     "output_type": "stream",
     "text": [
      "{'linearregression__fit_intercept': True, 'polynomialfeatures__degree': 0}\n",
      "\n",
      "Polynomial regression:\n",
      "R2: -0.03\n",
      "R2 adjusted: -0.03\n",
      "MAE: 1.33\n",
      "MSE: 2.41\n",
      "\n"
     ]
    }
   ],
   "source": [
    "# Polinomial regression + cross validation\n",
    "from sklearn.preprocessing import PolynomialFeatures\n",
    "from sklearn.pipeline import make_pipeline\n",
    "\n",
    "# Pipeline\n",
    "steps = [\n",
    "    \n",
    "]\n",
    "reg_pipeline = make_pipeline(PolynomialFeatures(), LinearRegression())\n",
    "\n",
    "# Parameters grid\n",
    "param_grid = {\n",
    "    'polynomialfeatures__degree': range(3),\n",
    "    'linearregression__fit_intercept': [True, False]\n",
    "}\n",
    "\n",
    "# Gridsearch\n",
    "gs = GridSearchCV(reg_pipeline, param_grid, scoring='neg_mean_squared_error', cv=tss, n_jobs=-1, iid=True)\n",
    "gs.fit(x_train, y_train)\n",
    "print(gs.best_params_)\n",
    "print()\n",
    "\n",
    "# Best estimator\n",
    "est = gs.best_estimator_\n",
    "est.fit(x_train, y_train)\n",
    "y_p = est.predict(x_test)\n",
    "\n",
    "print('Polynomial regression:')\n",
    "print(my_regression_report(y_test,y_p,x_train))\n",
    "print()"
   ]
  },
  {
   "cell_type": "code",
   "execution_count": 227,
   "metadata": {},
   "outputs": [
    {
     "name": "stdout",
     "output_type": "stream",
     "text": [
      "{'polynomialfeatures__degree': 1, 'ridge__alpha': 10, 'ridge__fit_intercept': True}\n",
      "\n",
      "Ridge regression:\n",
      "R2: 0.04\n",
      "R2 adjusted: 0.04\n",
      "MAE: 1.22\n",
      "MSE: 2.24\n",
      "\n"
     ]
    }
   ],
   "source": [
    "from sklearn.linear_model import Ridge\n",
    "# Ridge regression\n",
    "# Pipeline\n",
    "reg_pipeline = make_pipeline(PolynomialFeatures(), Ridge())\n",
    "\n",
    "# Parameters grid\n",
    "param_grid = {\n",
    "    'polynomialfeatures__degree': range(3),\n",
    "    'ridge__alpha': [0.1, 0.2, 0.5, 1, 10],\n",
    "    'ridge__fit_intercept': [True, False]\n",
    "\n",
    "}\n",
    "\n",
    "# Gridsearch\n",
    "gs = GridSearchCV(reg_pipeline, param_grid, scoring='neg_mean_squared_error', cv=tss, n_jobs=-1, iid=True)\n",
    "gs.fit(x_train, y_train)\n",
    "print(gs.best_params_)\n",
    "print()\n",
    "\n",
    "# Best estimator\n",
    "est = gs.best_estimator_\n",
    "est.fit(x_train, y_train)\n",
    "y_p = est.predict(x_test)\n",
    "\n",
    "print('Ridge regression:')\n",
    "print(my_regression_report(y_test,y_p,x_train))\n",
    "print()"
   ]
  },
  {
   "cell_type": "code",
   "execution_count": 228,
   "metadata": {},
   "outputs": [
    {
     "name": "stdout",
     "output_type": "stream",
     "text": [
      "10.0\n",
      "\n",
      "RidgeCV regression:\n",
      "R2: 0.04\n",
      "R2 adjusted: 0.04\n",
      "MAE: 1.22\n",
      "MSE: 2.24\n",
      "\n"
     ]
    }
   ],
   "source": [
    "from sklearn.linear_model import RidgeCV\n",
    "# Nota: non ha senso fare la cross validation di ridgeCV perchè sarebbe come farla 2 volte\n",
    "ridgecv = RidgeCV(cv=tss, scoring='neg_mean_squared_error')\n",
    "ridgecv.fit(x_train,y_train)\n",
    "y_p = ridgecv.predict(x_test)\n",
    "\n",
    "print(ridgecv.alpha_)\n",
    "print()\n",
    "print('RidgeCV regression:')\n",
    "print(my_regression_report(y_test,y_p,x_train))\n",
    "print()"
   ]
  },
  {
   "cell_type": "code",
   "execution_count": 229,
   "metadata": {},
   "outputs": [
    {
     "name": "stdout",
     "output_type": "stream",
     "text": [
      "{'lasso__alpha': 0.2, 'lasso__fit_intercept': True, 'polynomialfeatures__degree': 2}\n",
      "\n",
      "Lasso regression:\n",
      "R2: 0.48\n",
      "R2 adjusted: 0.47\n",
      "MAE: 0.86\n",
      "MSE: 1.23\n",
      "\n"
     ]
    },
    {
     "name": "stderr",
     "output_type": "stream",
     "text": [
      "C:\\Users\\mette\\Anaconda3\\lib\\site-packages\\sklearn\\linear_model\\coordinate_descent.py:475: ConvergenceWarning: Objective did not converge. You might want to increase the number of iterations. Duality gap: 1537.4956632005053, tolerance: 0.6220324945327317\n",
      "  positive)\n",
      "C:\\Users\\mette\\Anaconda3\\lib\\site-packages\\sklearn\\linear_model\\coordinate_descent.py:475: ConvergenceWarning: Objective did not converge. You might want to increase the number of iterations. Duality gap: 1537.4956632005053, tolerance: 0.6220324945327317\n",
      "  positive)\n"
     ]
    }
   ],
   "source": [
    "from sklearn.linear_model import Lasso\n",
    "# Lasso regression\n",
    "# Pipeline\n",
    "reg_pipeline = make_pipeline(PolynomialFeatures(), Lasso())\n",
    "\n",
    "# Parameters grid\n",
    "param_grid = {\n",
    "    'polynomialfeatures__degree': range(3),\n",
    "    'lasso__alpha': [0.1, 0.2, 0.5, 1, 10],\n",
    "    'lasso__fit_intercept': [True, False]\n",
    "\n",
    "}\n",
    "\n",
    "# Gridsearch\n",
    "gs = GridSearchCV(reg_pipeline, param_grid, scoring='neg_mean_squared_error', cv=tss, n_jobs=-1, iid=True)\n",
    "gs.fit(x_train, y_train)\n",
    "print(gs.best_params_)\n",
    "print()\n",
    "\n",
    "# Best estimator\n",
    "est = gs.best_estimator_\n",
    "est.fit(x_train, y_train)\n",
    "y_p = est.predict(x_test)\n",
    "\n",
    "print('Lasso regression:')\n",
    "print(my_regression_report(y_test,y_p,x_train))\n",
    "print()"
   ]
  },
  {
   "cell_type": "markdown",
   "metadata": {},
   "source": [
    "## Other regressors"
   ]
  },
  {
   "cell_type": "markdown",
   "metadata": {},
   "source": [
    "## Definizione dei k-fold della cross validation\n",
    "`n_splits` è settato in modo tale da avere k-fold più grandi:."
   ]
  },
  {
   "cell_type": "code",
   "execution_count": 910,
   "metadata": {},
   "outputs": [],
   "source": [
    "# Cross validation folds\n",
    "tss = TimeSeriesSplit(n_splits=5)"
   ]
  },
  {
   "cell_type": "markdown",
   "metadata": {},
   "source": [
    "## Normalization"
   ]
  },
  {
   "cell_type": "code",
   "execution_count": 86,
   "metadata": {},
   "outputs": [
    {
     "data": {
      "image/png": "[encoded data removed]",
      "text/plain": [
       "<Figure size 1008x288 with 1 Axes>"
      ]
     },
     "metadata": {
      "needs_background": "light"
     },
     "output_type": "display_data"
    }
   ],
   "source": [
    "from sklearn.preprocessing import StandardScaler\n",
    "\n",
    "z_scaler = StandardScaler()\n",
    "x_train = z_scaler.fit_transform(x_train)\n",
    "x_test = z_scaler.transform(x_test)\n",
    "\n",
    "fig, ax = plt.subplots(figsize=(14,4))\n",
    "ax.plot(x_train[:,0], y_train)\n",
    "ax.plot(x_test[:,0],y_test)\n",
    "plt.plot();"
   ]
  },
  {
   "cell_type": "code",
   "execution_count": null,
   "metadata": {},
   "outputs": [],
   "source": [
    "from sklearn.neural_network import MLPRegressor\n",
    "# MLPR (neural net)\n",
    "reg = MLPRegressor(random_state=17, max_iter=100000)\n",
    "# Parameters grid\n",
    "param_grid = {\n",
    "    'activation': ['identity', 'logistic', 'tanh', 'relu'],\n",
    "    'solver': ['lbfgs', 'sgd', 'adam'],\n",
    "    'learning_rate': ['constant', 'invscaling', 'adaptive']\n",
    "}\n",
    "\n",
    "# Gridsearch\n",
    "gs = GridSearchCV(reg, param_grid, scoring='neg_mean_squared_error', cv=tss, n_jobs=-1, iid=True)\n",
    "gs.fit(x_train, y_train)\n",
    "print(gs.best_params_)\n",
    "print()\n",
    "\n",
    "# Best estimator\n",
    "est = gs.best_estimator_\n",
    "est.fit(x_train, y_train)\n",
    "y_p = est.predict(x_test)\n",
    "\n",
    "print('Multi-layer Perceptron regressor:')\n",
    "print(my_regression_report(y_test,y_p,x_train))\n",
    "print()"
   ]
  },
  {
   "cell_type": "code",
   "execution_count": 913,
   "metadata": {},
   "outputs": [
    {
     "name": "stdout",
     "output_type": "stream",
     "text": [
      "{'C': 9, 'epsilon': 0.7, 'kernel': 'poly', 'shrinking': False}\n",
      "\n",
      "Epsilon-Support Vector Regression:\n",
      "R2: -0.01\n",
      "R2 adjusted: -0.01\n",
      "MAE: 1.30\n",
      "MSE: 2.36\n",
      "\n"
     ]
    }
   ],
   "source": [
    "# SVR\n",
    "reg = SVR(gamma='auto')\n",
    "# Parameters grid\n",
    "param_grid = {\n",
    "    'kernel': ['rbf', 'linear', 'poly', 'sigmoid'],\n",
    "    'C': [1, 3, 5, 7, 9],\n",
    "    'shrinking':[True, False],\n",
    "    'epsilon':[0.1,0.3,0.5,0.7]\n",
    "}\n",
    "\n",
    "# Gridsearch\n",
    "gs = GridSearchCV(reg, param_grid, scoring='neg_mean_squared_error', cv=tss, n_jobs=-1, iid=True)\n",
    "gs.fit(x_train, y_train)\n",
    "print(gs.best_params_)\n",
    "print()\n",
    "\n",
    "# Best estimator\n",
    "est = gs.best_estimator_\n",
    "est.fit(x_train, y_train)\n",
    "y_p = est.predict(x_test)\n",
    "\n",
    "print('Epsilon-Support Vector Regression:')\n",
    "print(my_regression_report(y_test,y_p,x_train))\n",
    "print()"
   ]
  },
  {
   "cell_type": "code",
   "execution_count": null,
   "metadata": {},
   "outputs": [],
   "source": [
    "# Random forest\n",
    "reg = RandomForestRegressor(n_estimators=100, random_state=17)\n",
    "# Parameters grid\n",
    "param_grid = {\n",
    "    'criterion': ['mae', 'mse'],\n",
    "    'min_samples_split': [2, 4, 6],\n",
    "    'min_samples_leaf': [1, 4, 8]\n",
    "}\n",
    "\n",
    "# Gridsearch\n",
    "gs = GridSearchCV(reg, param_grid, scoring='neg_mean_squared_error', cv=tss, n_jobs=-1, iid=True)\n",
    "gs.fit(x_train, y_train)\n",
    "print(gs.best_params_)\n",
    "print()\n",
    "\n",
    "# Best estimator\n",
    "est = RandomForestRegressor(n_estimators=500, random_state=17, **gs.best_params_)\n",
    "est.fit(x_train, y_train)\n",
    "y_p = est.predict(x_test)\n",
    "\n",
    "print('RandomForest Regression:')\n",
    "print(my_regression_report(y_test,y_p,x_train))\n",
    "print()"
   ]
  },
  {
   "cell_type": "markdown",
   "metadata": {},
   "source": [
    "# Preprocessing 3"
   ]
  },
  {
   "cell_type": "code",
   "execution_count": 18,
   "metadata": {},
   "outputs": [
    {
     "data": {
      "image/png": "[encoded data removed]",
      "text/plain": [
       "<Figure size 1008x288 with 1 Axes>"
      ]
     },
     "metadata": {
      "needs_background": "light"
     },
     "output_type": "display_data"
    }
   ],
   "source": [
    "fig, ax = plt.subplots(figsize=(14,4))\n",
    "\n",
    "ax.plot(date, mean_temp);"
   ]
  },
  {
   "cell_type": "markdown",
   "metadata": {},
   "source": [
    "## Costruzione del dataset\n",
    "Quello che voglio è un dataset costruito solo sulla base della variabile `mean_temp` che viene 'reshapata' in una matrice dove le righe sono slidign windows.  \n",
    "### Train e test \n",
    "L'unico modo sensato di dividere è sulla linea temporale: fino al 31 dicembre 1944 è train set, dopo è test set."
   ]
  },
  {
   "cell_type": "code",
   "execution_count": 19,
   "metadata": {},
   "outputs": [],
   "source": [
    "from sklearn.model_selection import TimeSeriesSplit\n",
    "\n",
    "w = 100\n",
    "x_train, x_test, y_train, y_test = np.array([]), np.array([]), np.array([]),np.array([])\n",
    "tss = TimeSeriesSplit(n_splits=mean_temp.shape[0]-1, max_train_size=w)\n",
    "\n",
    "i = 0\n",
    "for x_ids, y_ids in tss.split(mean_temp):\n",
    "    if x_ids.size == w:\n",
    "        if date[i] < np.datetime64('1945-01-01'):\n",
    "            x_train = np.vstack((x_train, mean_temp[x_ids])) if x_train.size > 0 else mean_temp[x_ids]\n",
    "            y_train = np.append(y_train, mean_temp[y_ids]) if y_train.size > 0 else mean_temp[y_ids]\n",
    "        else:\n",
    "            x_test = np.vstack((x_test, mean_temp[x_ids])) if x_test.size > 0 else mean_temp[x_ids]\n",
    "            y_test = np.append(y_test, mean_temp[y_ids]) if y_test.size > 0 else mean_temp[y_ids]\n",
    "    i += 1"
   ]
  },
  {
   "cell_type": "code",
   "execution_count": 20,
   "metadata": {},
   "outputs": [
    {
     "data": {
      "text/plain": [
       "((1728, 100), (364, 100), (1728,), (364,))"
      ]
     },
     "execution_count": 20,
     "metadata": {},
     "output_type": "execute_result"
    }
   ],
   "source": [
    "x_train.shape, x_test.shape, y_train.shape, y_test.shape"
   ]
  },
  {
   "cell_type": "code",
   "execution_count": 21,
   "metadata": {},
   "outputs": [
    {
     "data": {
      "text/plain": [
       "((2092, 100), (2092,))"
      ]
     },
     "execution_count": 21,
     "metadata": {},
     "output_type": "execute_result"
    }
   ],
   "source": [
    "X = np.vstack((x_train,x_test))\n",
    "y = np.append(y_train,y_test)\n",
    "X.shape, y.shape"
   ]
  },
  {
   "cell_type": "markdown",
   "metadata": {},
   "source": [
    "# Regression\n",
    "Per ciascun regressore ci sono due modi di valutazione:\n",
    "- Cross validation (cross_val_predict): comporta l'esecuzione di una cross validation annidata che ovviemente è più pesante da calcolare. Ho notato che calcola (come mi aspettavo) **metriche meno ottimistiche**. Il difetto è che da questa tecnica non posso estrarre i best_params_ da gridsearch, ma sicuramente ho una visione più generalizzata dell'algoritmo.\n",
    "- Il classico train e test. Pro e contro speculari rispetto all'altro approccio.  \n",
    "\n",
    "Devo tenere conto della differenza tra le metriche."
   ]
  },
  {
   "cell_type": "code",
   "execution_count": 23,
   "metadata": {},
   "outputs": [],
   "source": [
    "from sklearn.linear_model import LinearRegression, Ridge, Lasso\n",
    "from sklearn.model_selection import GridSearchCV, cross_val_predict, cross_val_score\n",
    "from sklearn.preprocessing import MinMaxScaler, StandardScaler, PolynomialFeatures\n",
    "from sklearn.pipeline import make_pipeline, Pipeline\n",
    "from sklearn.neural_network import MLPRegressor\n",
    "from sklearn.svm import SVR\n",
    "from sklearn.ensemble import RandomForestRegressor"
   ]
  },
  {
   "cell_type": "code",
   "execution_count": 203,
   "metadata": {},
   "outputs": [
    {
     "name": "stdout",
     "output_type": "stream",
     "text": [
      "Linear regression:\n",
      "R2: 0.76\n",
      "R2 adjusted: 0.75\n",
      "MAE: 0.65\n",
      "MSE: 0.73\n",
      "\n"
     ]
    }
   ],
   "source": [
    "print('Linear regression:')\n",
    "\n",
    "# Pipeline\n",
    "steps = [\n",
    "#     ('norm', MinMaxScaler()), #Non richiede normalization\n",
    "    ('reg', LinearRegression())\n",
    "]\n",
    "lreg = Pipeline(steps)\n",
    "\n",
    "param_grid = {\n",
    "    'reg__fit_intercept': [True, False]\n",
    "}\n",
    "\n",
    "# Gridsearch\n",
    "gs = GridSearchCV(lreg, param_grid, cv=5, scoring='r2', refit=True, n_jobs=-1, iid=True)\n",
    "\n",
    "# Se il training è veloce posso fare così(ottengo delle metriche più complete -> nested CV):\n",
    "y_p = cross_val_predict(gs,X,y,cv=5,n_jobs=-1)\n",
    "print(my_regression_report(y,y_p,X))\n",
    "\n",
    "# Se il training è lento faccio solo\n",
    "# gs.fit(x_train, y_train) #Con refit attivo\n",
    "# print(gs.best_params_)\n",
    "# print()\n",
    "# y_p = gs.predict(x_test)\n",
    "# print(my_regression_report(y_test,y_p,x_train))\n",
    "\n",
    "print()"
   ]
  },
  {
   "cell_type": "code",
   "execution_count": 186,
   "metadata": {},
   "outputs": [
    {
     "name": "stdout",
     "output_type": "stream",
     "text": [
      "Polynomial regression:\n",
      "R2: 0.76\n",
      "R2 adjusted: 0.75\n",
      "MAE: 0.65\n",
      "MSE: 0.73\n",
      "\n"
     ]
    }
   ],
   "source": [
    "print('Polynomial regression:')\n",
    "\n",
    "# Pipeline\n",
    "steps = [\n",
    "    #('norm', StandardScaler()),\n",
    "    ('poly', PolynomialFeatures()),\n",
    "    ('reg', LinearRegression())\n",
    "]\n",
    "preg = Pipeline(steps)\n",
    "\n",
    "# Grid search\n",
    "param_grid = {\n",
    "    'poly__degree': range(3),\n",
    "    'reg__fit_intercept': [True, False]\n",
    "}\n",
    "gs = GridSearchCV(preg, param_grid, cv=5, scoring='r2', refit=True, n_jobs=-1)\n",
    "\n",
    "# Se il training è veloce posso fare così(ottengo delle metriche più complete -> nested CV):\n",
    "y_p = cross_val_predict(gs,X,y,cv=5,n_jobs=-1)\n",
    "print(my_regression_report(y,y_p,X))\n",
    "\n",
    "# Se il training è lento faccio solo\n",
    "# gs.fit(x_train, y_train) #Con refit attivo\n",
    "# print(gs.best_params_)\n",
    "# print()\n",
    "# y_p = gs.predict(x_test)\n",
    "# print(my_regression_report(y_test,y_p,x_train))\n",
    "\n",
    "print()"
   ]
  },
  {
   "cell_type": "code",
   "execution_count": 189,
   "metadata": {},
   "outputs": [
    {
     "name": "stdout",
     "output_type": "stream",
     "text": [
      "Ridge regression:\n",
      "R2: 0.77\n",
      "R2 adjusted: 0.75\n",
      "MAE: 0.65\n",
      "MSE: 0.73\n",
      "\n"
     ]
    }
   ],
   "source": [
    "print('Ridge regression:')\n",
    "\n",
    "# Pipeline\n",
    "steps = [\n",
    "    ('poly', PolynomialFeatures()),\n",
    "    ('ridge', Ridge())\n",
    "]\n",
    "ridge = Pipeline(steps)\n",
    "\n",
    "# Parameters grid\n",
    "param_grid = {\n",
    "    'poly__degree': range(3),\n",
    "    'ridge__alpha': [0.1, 0.2, 0.5, 1, 10],\n",
    "    'ridge__fit_intercept': [True, False]\n",
    "}\n",
    "\n",
    "# Gridsearch\n",
    "gs = GridSearchCV(ridge, param_grid, scoring='r2', cv=5, refit=True, n_jobs=-1, iid=True)\n",
    "\n",
    "# Se il training è veloce posso fare così(ottengo delle metriche più complete -> nested CV):\n",
    "y_p = cross_val_predict(gs,X,y,cv=5,n_jobs=-1)\n",
    "print(my_regression_report(y,y_p,X))\n",
    "\n",
    "# Se il training è lento faccio solo\n",
    "# gs.fit(x_train, y_train) #Con refit attivo\n",
    "# print(gs.best_params_)\n",
    "# print()\n",
    "# y_p = gs.predict(x_test)\n",
    "# print(my_regression_report(y_test,y_p,x_train))\n",
    "print()"
   ]
  },
  {
   "cell_type": "code",
   "execution_count": 190,
   "metadata": {},
   "outputs": [
    {
     "name": "stdout",
     "output_type": "stream",
     "text": [
      "Lasso regression:\n",
      "R2: 0.78\n",
      "R2 adjusted: 0.76\n",
      "MAE: 0.64\n",
      "MSE: 0.70\n",
      "\n"
     ]
    }
   ],
   "source": [
    "print('Lasso regression:')\n",
    "\n",
    "# Pipeline\n",
    "steps = [\n",
    "    ('poly', PolynomialFeatures()),\n",
    "    ('lasso', Lasso())\n",
    "]\n",
    "ridge = Pipeline(steps)\n",
    "\n",
    "# Parameters grid\n",
    "param_grid = {\n",
    "    'poly__degree': range(3),\n",
    "    'lasso__alpha': [0.1, 0.2, 0.5, 1, 10],\n",
    "    'lasso__fit_intercept': [True, False]\n",
    "\n",
    "}\n",
    "\n",
    "# Gridsearch\n",
    "gs = GridSearchCV(ridge, param_grid, scoring='r2', cv=5, refit=True, n_jobs=-1, iid=True)\n",
    "\n",
    "# Se il training è veloce posso fare così(ottengo delle metriche più complete -> nested CV):\n",
    "y_p = cross_val_predict(gs,X,y,cv=5,n_jobs=-1)\n",
    "print(my_regression_report(y,y_p,X))\n",
    "\n",
    "# Se il training è lento faccio solo\n",
    "# gs.fit(x_train, y_train) #Con refit attivo\n",
    "# print(gs.best_params_)\n",
    "# print()\n",
    "# y_p = gs.predict(x_test)\n",
    "# print(my_regression_report(y_test,y_p,x_train))\n",
    "print()"
   ]
  },
  {
   "cell_type": "code",
   "execution_count": 204,
   "metadata": {},
   "outputs": [
    {
     "name": "stdout",
     "output_type": "stream",
     "text": [
      "Multi-layer Perceptron regressor:\n",
      "{'reg__activation': 'relu', 'reg__solver': 'sgd'}\n",
      "\n",
      "R2: 0.67\n",
      "R2 adjusted: 0.65\n",
      "MAE: 0.65\n",
      "MSE: 0.76\n",
      "\n"
     ]
    }
   ],
   "source": [
    "# MLPR (neural net)\n",
    "print('Multi-layer Perceptron regressor:')\n",
    "\n",
    "# Pipeline\n",
    "steps = [\n",
    "    ('norm', StandardScaler()), #meglio del minmax\n",
    "    ('reg', MLPRegressor(random_state=17, max_iter=10000))\n",
    "]\n",
    "mlpreg = Pipeline(steps)\n",
    "\n",
    "# Parameters grid\n",
    "param_grid = {\n",
    "    'reg__activation': ['identity', 'logistic', 'tanh', 'relu'],\n",
    "    'reg__solver': ['lbfgs', 'sgd', 'adam']#,\n",
    "    #'learning_rate': ['constant', 'invscaling', 'adaptive']\n",
    "}\n",
    "\n",
    "# Gridsearch\n",
    "gs = GridSearchCV(mlpreg, param_grid, scoring='r2', cv=5, refit=True, n_jobs=-1, iid=True)\n",
    "\n",
    "# Se il training è veloce posso fare così(ottengo delle metriche più complete -> nested CV):\n",
    "# y_p = cross_val_predict(gs,X,y,cv=5,n_jobs=-1)\n",
    "# print(my_regression_report(y,y_p,X))\n",
    "\n",
    "# Se il training è lento faccio solo:\n",
    "gs.fit(x_train, y_train) #Con refit attivo\n",
    "print(gs.best_params_)\n",
    "print()\n",
    "y_p = gs.predict(x_test)\n",
    "print(my_regression_report(y_test,y_p,x_train))\n",
    "\n",
    "print()"
   ]
  },
  {
   "cell_type": "code",
   "execution_count": 206,
   "metadata": {},
   "outputs": [
    {
     "name": "stdout",
     "output_type": "stream",
     "text": [
      "Epsilon-Support Vector Regression:\n",
      "{'reg__C': 1, 'reg__epsilon': 0.1, 'reg__kernel': 'linear', 'reg__shrinking': False}\n",
      "\n",
      "R2: 0.68\n",
      "R2 adjusted: 0.66\n",
      "MAE: 0.64\n",
      "MSE: 0.75\n",
      "\n"
     ]
    }
   ],
   "source": [
    "# SVR\n",
    "print('Epsilon-Support Vector Regression:')\n",
    "\n",
    "# Pipeline\n",
    "steps = [\n",
    "    ('norm', StandardScaler()),\n",
    "    ('reg', SVR(gamma='auto'))\n",
    "]\n",
    "svr = Pipeline(steps)\n",
    "\n",
    "# Parameters grid\n",
    "param_grid = {\n",
    "    'reg__kernel': ['rbf', 'linear', 'poly', 'sigmoid'],\n",
    "    'reg__C': [1, 3, 5, 7, 9],\n",
    "    'reg__shrinking':[True, False],\n",
    "    'reg__epsilon':[0.1,0.3,0.5,0.7]\n",
    "}\n",
    "\n",
    "# Gridsearch\n",
    "gs = GridSearchCV(svr, param_grid, scoring='r2', cv=5, refit=True, n_jobs=-1, iid=True)\n",
    "\n",
    "# Se il training è veloce posso fare così(ottengo delle metriche più complete -> nested CV):\n",
    "# y_p = cross_val_predict(gs,X,y,cv=5,n_jobs=-1)\n",
    "# print(my_regression_report(y,y_p,X))\n",
    "\n",
    "# Se il training è lento faccio solo:\n",
    "gs.fit(x_train, y_train) #Con refit attivo\n",
    "print(gs.best_params_)\n",
    "print()\n",
    "y_p = gs.predict(x_test)\n",
    "print(my_regression_report(y_test,y_p,x_train))\n",
    "print()"
   ]
  },
  {
   "cell_type": "code",
   "execution_count": 26,
   "metadata": {},
   "outputs": [
    {
     "name": "stdout",
     "output_type": "stream",
     "text": [
      "RandomForest Regression:\n",
      "{}\n",
      "\n",
      "R2: 0.70\n",
      "R2 adjusted: 0.68\n",
      "MAE: 0.64\n",
      "MSE: 0.71\n",
      "\n"
     ]
    }
   ],
   "source": [
    "print('RandomForest Regression:')\n",
    "\n",
    "# Pipeline\n",
    "steps = [\n",
    "    ('norm', StandardScaler()),\n",
    "    ('reg', RandomForestRegressor(n_estimators=100, random_state=17))\n",
    "]\n",
    "rf = Pipeline(steps)\n",
    "\n",
    "# Parameters grid\n",
    "param_grid = {\n",
    "    #'reg__criterion': ['mae', 'mse'],\n",
    "    #'reg__min_samples_split': [2, 4, 6]\n",
    "}\n",
    "\n",
    "# Gridsearch\n",
    "gs = GridSearchCV(rf, param_grid, scoring='r2', cv=5, refit=True, n_jobs=-1, iid=True)\n",
    "\n",
    "# Se il training è veloce posso fare così(ottengo delle metriche più complete -> nested CV):\n",
    "# y_p = cross_val_predict(gs,X,y,cv=5,n_jobs=-1)\n",
    "# print(my_regression_report(y,y_p,X))\n",
    "\n",
    "# Se il training è lento faccio solo:\n",
    "gs.fit(x_train, y_train) #Con refit attivo\n",
    "print(gs.best_params_)\n",
    "print()\n",
    "y_p = gs.predict(x_test)\n",
    "print(my_regression_report(y_test,y_p,x_train))\n",
    "print()"
   ]
  },
  {
   "cell_type": "markdown",
   "metadata": {},
   "source": [
    "# Previsione del best regressor"
   ]
  },
  {
   "cell_type": "code",
   "execution_count": 221,
   "metadata": {},
   "outputs": [],
   "source": [
    "import matplotlib.pyplot as plt\n",
    "\n",
    "# Il best estimator è Lasso, ma è lento, quindi uso Ridge che è praticamente uguale\n",
    "# Pipeline\n",
    "steps = [\n",
    "    ('poly', PolynomialFeatures()),\n",
    "    ('ridge', Ridge())\n",
    "]\n",
    "ridge = Pipeline(steps)\n",
    "\n",
    "# Parameters grid\n",
    "param_grid = {\n",
    "    'poly__degree': range(3),\n",
    "    'ridge__alpha': [0.1, 0.2, 0.5, 1, 10],\n",
    "    'ridge__fit_intercept': [True, False]\n",
    "}\n",
    "\n",
    "# Gridsearch\n",
    "gs = GridSearchCV(ridge, param_grid, scoring='r2', cv=5, refit=True, n_jobs=-1, iid=True)\n",
    "\n",
    "# Se il training è veloce posso fare così(ottengo delle metriche più complete -> nested CV):\n",
    "y_p = cross_val_predict(gs,X,y,cv=5,n_jobs=-1)"
   ]
  },
  {
   "cell_type": "code",
   "execution_count": 222,
   "metadata": {},
   "outputs": [
    {
     "data": {
      "image/png": "[encoded data removed]",
      "text/plain": [
       "<Figure size 1008x288 with 1 Axes>"
      ]
     },
     "metadata": {
      "needs_background": "light"
     },
     "output_type": "display_data"
    }
   ],
   "source": [
    "# Plot\n",
    "fig, ax = plt.subplots(figsize=(14,4))\n",
    "ax.plot(date[w:], y, label='Original')\n",
    "ax.plot(date[w:], y_p, label='Predicted')\n",
    "ax.legend()\n",
    "plt.plot();"
   ]
  },
  {
   "cell_type": "markdown",
   "metadata": {},
   "source": [
    "# Further steps to improve the prediction\n",
    "Prova a variare il valore di w. Un'idea potrebbe essere quella di fare il tuning di w sulla linear regression e poi provarlo su tutti. Avrei dovuto farlo a monte..."
   ]
  }
 ],
 "metadata": {
  "kernelspec": {
   "display_name": "Python 3",
   "language": "python",
   "name": "python3"
  },
  "language_info": {
   "codemirror_mode": {
    "name": "ipython",
    "version": 3
   },
   "file_extension": ".py",
   "mimetype": "text/x-python",
   "name": "python",
   "nbconvert_exporter": "python",
   "pygments_lexer": "ipython3",
   "version": "3.7.4"
  }
 },
 "nbformat": 4,
 "nbformat_minor": 2
}
